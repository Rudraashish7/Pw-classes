{
 "cells": [
  {
   "cell_type": "markdown",
   "id": "4348025f-f352-48cc-b479-01b86524fee5",
   "metadata": {},
   "source": [
    "# Dictionary"
   ]
  },
  {
   "cell_type": "code",
   "execution_count": 1,
   "id": "c8ac0d39-07fd-4d46-bbda-b4f84857879c",
   "metadata": {},
   "outputs": [],
   "source": [
    "d={} # Creating a blank dictionary"
   ]
  },
  {
   "cell_type": "code",
   "execution_count": 2,
   "id": "17b90ede-604b-4ffc-b31b-f947be46bcfd",
   "metadata": {},
   "outputs": [
    {
     "data": {
      "text/plain": [
       "dict"
      ]
     },
     "execution_count": 2,
     "metadata": {},
     "output_type": "execute_result"
    }
   ],
   "source": [
    "type(d)"
   ]
  },
  {
   "cell_type": "code",
   "execution_count": 3,
   "id": "4ca8d37f-2492-437d-bb9d-0b8e1504d8ea",
   "metadata": {},
   "outputs": [],
   "source": [
    "d1 = { 'key': \"Rudra\" }"
   ]
  },
  {
   "cell_type": "code",
   "execution_count": 4,
   "id": "fbe265be-5b70-46d8-a383-d5e4b74ccdd3",
   "metadata": {},
   "outputs": [
    {
     "data": {
      "text/plain": [
       "{'key': 'Rudra'}"
      ]
     },
     "execution_count": 4,
     "metadata": {},
     "output_type": "execute_result"
    }
   ],
   "source": [
    "d1"
   ]
  },
  {
   "cell_type": "code",
   "execution_count": 5,
   "id": "26dcf617-5245-4128-aa25-93b2b04f2ed4",
   "metadata": {},
   "outputs": [],
   "source": [
    "d2 = {'name' : \"Rudraashish\",\"Email\":\"Rudraashishsen@gmail.com\",\"Number\":7310042021}\n",
    "# Assing the value inside a dictionary "
   ]
  },
  {
   "cell_type": "code",
   "execution_count": 6,
   "id": "a401aedc-ba9c-4c85-bfb2-34f4fafabfc8",
   "metadata": {},
   "outputs": [
    {
     "data": {
      "text/plain": [
       "{'name': 'Rudraashish',\n",
       " 'Email': 'Rudraashishsen@gmail.com',\n",
       " 'Number': 7310042021}"
      ]
     },
     "execution_count": 6,
     "metadata": {},
     "output_type": "execute_result"
    }
   ],
   "source": [
    "d2 # calling the dictionary"
   ]
  },
  {
   "cell_type": "code",
   "execution_count": 7,
   "id": "4869fc3d-8c45-4b28-a9f4-5391a95493df",
   "metadata": {},
   "outputs": [],
   "source": [
    "d3 = {234:\"rudra\"} # Assing value in another dictioanry \"d3\""
   ]
  },
  {
   "cell_type": "code",
   "execution_count": 8,
   "id": "ef79fc78-33c3-4216-ae66-ca823625b5be",
   "metadata": {},
   "outputs": [
    {
     "data": {
      "text/plain": [
       "{234: 'rudra'}"
      ]
     },
     "execution_count": 8,
     "metadata": {},
     "output_type": "execute_result"
    }
   ],
   "source": [
    "d3 # Calling the dict. d3"
   ]
  },
  {
   "cell_type": "code",
   "execution_count": 9,
   "id": "cc4af16b-4216-400d-9666-3141b46a7b30",
   "metadata": {},
   "outputs": [],
   "source": [
    "d4 = {True: 24234, \"@wer\" : \"vvvfv\", 234:\"rudra\"} # Assigning value inside another dictionary d4"
   ]
  },
  {
   "cell_type": "code",
   "execution_count": 10,
   "id": "edb6e2eb-33bd-482b-ba11-fd2d003ff3bc",
   "metadata": {},
   "outputs": [
    {
     "data": {
      "text/plain": [
       "{True: 24234, '@wer': 'vvvfv', 234: 'rudra'}"
      ]
     },
     "execution_count": 10,
     "metadata": {},
     "output_type": "execute_result"
    }
   ],
   "source": [
    "d4 # Calling dictionar d3"
   ]
  },
  {
   "cell_type": "code",
   "execution_count": 11,
   "id": "82efc68d-318b-48b6-bf52-36d68bb4c17a",
   "metadata": {},
   "outputs": [
    {
     "data": {
      "text/plain": [
       "'rudra'"
      ]
     },
     "execution_count": 11,
     "metadata": {},
     "output_type": "execute_result"
    }
   ],
   "source": [
    "d4[234]  # Extracting value assigned with key=\"234\" inside dictionar d4"
   ]
  },
  {
   "cell_type": "code",
   "execution_count": 12,
   "id": "8398f9dc-3209-47a6-a516-900cb54b721c",
   "metadata": {},
   "outputs": [
    {
     "data": {
      "text/plain": [
       "24234"
      ]
     },
     "execution_count": 12,
     "metadata": {},
     "output_type": "execute_result"
    }
   ],
   "source": [
    "d4[True] # Extracting value assigned with key = True inside dictionary d4 "
   ]
  },
  {
   "cell_type": "code",
   "execution_count": 13,
   "id": "1c19c23c-c58d-425e-80b7-5cc17a5ac845",
   "metadata": {},
   "outputs": [
    {
     "data": {
      "text/plain": [
       "24234"
      ]
     },
     "execution_count": 13,
     "metadata": {},
     "output_type": "execute_result"
    }
   ],
   "source": [
    "d4[1] # Extracting value of key = 1 inside a dictonary \n",
    "\n",
    "# since \"True\" is stored as 1 in python therefore we are getting the value of key='True'"
   ]
  },
  {
   "cell_type": "code",
   "execution_count": 14,
   "id": "e4c9878c-25a0-41e0-a8e0-a9e9f0b3cee5",
   "metadata": {},
   "outputs": [],
   "source": [
    "d4 = {'name' : 'Rudra' , 'mail-id' : 'xyz@gmail.com' , 'name' : 'Rudraashish'}\n",
    " # here we took same key to assign two diffrent value "
   ]
  },
  {
   "cell_type": "code",
   "execution_count": 15,
   "id": "b2eae386-ad07-432c-84a5-76db4d848936",
   "metadata": {},
   "outputs": [
    {
     "data": {
      "text/plain": [
       "{'name': 'Rudraashish', 'mail-id': 'xyz@gmail.com'}"
      ]
     },
     "execution_count": 15,
     "metadata": {},
     "output_type": "execute_result"
    }
   ],
   "source": [
    "d4 # When we call the dictionary d4 we will see that the value which was last assigne with the key was displayed "
   ]
  },
  {
   "cell_type": "code",
   "execution_count": 16,
   "id": "34d28618-e7cc-4e5f-8205-7dcac7f8d67b",
   "metadata": {},
   "outputs": [
    {
     "data": {
      "text/plain": [
       "'Rudraashish'"
      ]
     },
     "execution_count": 16,
     "metadata": {},
     "output_type": "execute_result"
    }
   ],
   "source": [
    "d4['name']\n",
    "# When we call the dictionary d4 we will see that the value which was last assigned with the key was displayed\n",
    "# This means the last value overwrittes the previous value "
   ]
  },
  {
   "cell_type": "code",
   "execution_count": 17,
   "id": "976101a7-cd38-4d23-8a70-6e826176c48e",
   "metadata": {},
   "outputs": [],
   "source": [
    "d5 = {'company':'pwskills' , 'courses' : ['web dec' , 'data science' , 'java with dsa system design']}\n",
    "\n",
    "# Creating a dictionary d5 with list as it's value "
   ]
  },
  {
   "cell_type": "code",
   "execution_count": 18,
   "id": "c8ee6cb0-f702-45a2-8e3d-95e807f65286",
   "metadata": {},
   "outputs": [
    {
     "data": {
      "text/plain": [
       "{'company': 'pwskills',\n",
       " 'courses': ['web dec', 'data science', 'java with dsa system design']}"
      ]
     },
     "execution_count": 18,
     "metadata": {},
     "output_type": "execute_result"
    }
   ],
   "source": [
    "d5"
   ]
  },
  {
   "cell_type": "code",
   "execution_count": 19,
   "id": "cd372049-7db9-4ca4-9488-495d06f1b5cd",
   "metadata": {},
   "outputs": [
    {
     "data": {
      "text/plain": [
       "['web dec', 'data science', 'java with dsa system design']"
      ]
     },
     "execution_count": 19,
     "metadata": {},
     "output_type": "execute_result"
    }
   ],
   "source": [
    "d5['courses'] # Extracting list of courses from the dictionary d5"
   ]
  },
  {
   "cell_type": "code",
   "execution_count": 20,
   "id": "5666b683-5cbb-4687-ad7b-881a8357d7c1",
   "metadata": {},
   "outputs": [
    {
     "data": {
      "text/plain": [
       "'java with dsa system design'"
      ]
     },
     "execution_count": 20,
     "metadata": {},
     "output_type": "execute_result"
    }
   ],
   "source": [
    "d5['courses'][2] # extracting a perticular element from the key\"courses\" present in the dictionary d5"
   ]
  },
  {
   "cell_type": "code",
   "execution_count": 21,
   "id": "67c0b443-ee6c-4687-a5b6-1a311653859e",
   "metadata": {},
   "outputs": [],
   "source": [
    "d6 = { 'number' : [2,34,3,34,34] , 'assignments' : (1,2,3,4,5,6) , \"launch_date\" : {28,12,14} , 'class_time' : {'web_dev': 8 , 'data science masters' : 9 , 'java with dsa and system design' : 7}}"
   ]
  },
  {
   "cell_type": "code",
   "execution_count": 22,
   "id": "df77924f-e706-4a89-b9e9-7965d072f89a",
   "metadata": {},
   "outputs": [
    {
     "data": {
      "text/plain": [
       "{'number': [2, 34, 3, 34, 34],\n",
       " 'assignments': (1, 2, 3, 4, 5, 6),\n",
       " 'launch_date': {12, 14, 28},\n",
       " 'class_time': {'web_dev': 8,\n",
       "  'data science masters': 9,\n",
       "  'java with dsa and system design': 7}}"
      ]
     },
     "execution_count": 22,
     "metadata": {},
     "output_type": "execute_result"
    }
   ],
   "source": [
    "d6"
   ]
  },
  {
   "cell_type": "code",
   "execution_count": 23,
   "id": "8fccc924-33c4-4409-ac44-1334d50ac408",
   "metadata": {},
   "outputs": [
    {
     "data": {
      "text/plain": [
       "7"
      ]
     },
     "execution_count": 23,
     "metadata": {},
     "output_type": "execute_result"
    }
   ],
   "source": [
    "# code for extracting 7 from dictionary d6\n",
    "\n",
    "d6['class_time']['java with dsa and system design']"
   ]
  },
  {
   "cell_type": "code",
   "execution_count": 24,
   "id": "9f243a47-6a43-45fc-b176-bea0b691dce2",
   "metadata": {},
   "outputs": [
    {
     "data": {
      "text/plain": [
       "{'number': [2, 34, 3, 34, 34],\n",
       " 'assignments': (1, 2, 3, 4, 5, 6),\n",
       " 'launch_date': {12, 14, 28},\n",
       " 'class_time': {'web_dev': 8,\n",
       "  'data science masters': 9,\n",
       "  'java with dsa and system design': 7}}"
      ]
     },
     "execution_count": 24,
     "metadata": {},
     "output_type": "execute_result"
    }
   ],
   "source": [
    "d6"
   ]
  },
  {
   "cell_type": "code",
   "execution_count": 25,
   "id": "eabbe381-85f6-4d50-b0b9-4aba11c2ddaf",
   "metadata": {},
   "outputs": [],
   "source": [
    "# Adding a key : value pair in an existing dictionary d6\n",
    "\n",
    "d6['mentor'] = ['Sudhanshu','Krish','Anurag','Hayder']"
   ]
  },
  {
   "cell_type": "code",
   "execution_count": 26,
   "id": "5027fb6b-9dad-4295-a05c-d7abdac35df1",
   "metadata": {},
   "outputs": [
    {
     "data": {
      "text/plain": [
       "{'number': [2, 34, 3, 34, 34],\n",
       " 'assignments': (1, 2, 3, 4, 5, 6),\n",
       " 'launch_date': {12, 14, 28},\n",
       " 'class_time': {'web_dev': 8,\n",
       "  'data science masters': 9,\n",
       "  'java with dsa and system design': 7},\n",
       " 'mentor': ['Sudhanshu', 'Krish', 'Anurag', 'Hayder']}"
      ]
     },
     "execution_count": 26,
     "metadata": {},
     "output_type": "execute_result"
    }
   ],
   "source": [
    "d6"
   ]
  },
  {
   "cell_type": "code",
   "execution_count": 27,
   "id": "1848238d-9009-4254-881d-cf75ab3be5c9",
   "metadata": {},
   "outputs": [],
   "source": [
    "# Deleating a key : value pair in an existing dictionary\n",
    "\n",
    "del d6['number']"
   ]
  },
  {
   "cell_type": "code",
   "execution_count": 28,
   "id": "4e50ade8-8ded-48c0-be6c-a7190b6756dd",
   "metadata": {},
   "outputs": [
    {
     "data": {
      "text/plain": [
       "{'assignments': (1, 2, 3, 4, 5, 6),\n",
       " 'launch_date': {12, 14, 28},\n",
       " 'class_time': {'web_dev': 8,\n",
       "  'data science masters': 9,\n",
       "  'java with dsa and system design': 7},\n",
       " 'mentor': ['Sudhanshu', 'Krish', 'Anurag', 'Hayder']}"
      ]
     },
     "execution_count": 28,
     "metadata": {},
     "output_type": "execute_result"
    }
   ],
   "source": [
    "d6"
   ]
  },
  {
   "cell_type": "code",
   "execution_count": 29,
   "id": "e49b8591-a147-4984-8381-cd5d1bca9244",
   "metadata": {},
   "outputs": [
    {
     "data": {
      "text/plain": [
       "dict_keys(['assignments', 'launch_date', 'class_time', 'mentor'])"
      ]
     },
     "execution_count": 29,
     "metadata": {},
     "output_type": "execute_result"
    }
   ],
   "source": [
    "# Extracting the list of all the keys present in the dictionary\n",
    "d6.keys()"
   ]
  },
  {
   "cell_type": "code",
   "execution_count": 30,
   "id": "e631c8b2-4b70-4cc3-8d7d-bcf657d33678",
   "metadata": {},
   "outputs": [
    {
     "data": {
      "text/plain": [
       "['assignments', 'launch_date', 'class_time', 'mentor']"
      ]
     },
     "execution_count": 30,
     "metadata": {},
     "output_type": "execute_result"
    }
   ],
   "source": [
    "# displaying the list of key in form of list\n",
    "\n",
    "list(d6.keys())"
   ]
  },
  {
   "cell_type": "code",
   "execution_count": 31,
   "id": "6a322b4d-2ca1-4ff9-ada6-4fc83f544bb0",
   "metadata": {},
   "outputs": [
    {
     "data": {
      "text/plain": [
       "[(1, 2, 3, 4, 5, 6),\n",
       " {12, 14, 28},\n",
       " {'web_dev': 8,\n",
       "  'data science masters': 9,\n",
       "  'java with dsa and system design': 7},\n",
       " ['Sudhanshu', 'Krish', 'Anurag', 'Hayder']]"
      ]
     },
     "execution_count": 31,
     "metadata": {},
     "output_type": "execute_result"
    }
   ],
   "source": [
    "# Extracting the list of values from the dictionary \n",
    "\n",
    "list(d6.values())"
   ]
  },
  {
   "cell_type": "code",
   "execution_count": 32,
   "id": "57729a88-42de-4a63-b281-ab8efcc72d27",
   "metadata": {},
   "outputs": [
    {
     "data": {
      "text/plain": [
       "[('assignments', (1, 2, 3, 4, 5, 6)),\n",
       " ('launch_date', {12, 14, 28}),\n",
       " ('class_time',\n",
       "  {'web_dev': 8,\n",
       "   'data science masters': 9,\n",
       "   'java with dsa and system design': 7}),\n",
       " ('mentor', ['Sudhanshu', 'Krish', 'Anurag', 'Hayder'])]"
      ]
     },
     "execution_count": 32,
     "metadata": {},
     "output_type": "execute_result"
    }
   ],
   "source": [
    "# Extracting the key:value pair from a dictioanry \n",
    "\n",
    "list(d6.items())\n",
    "\n",
    "# we are getting a list of tuples holding key value pairs"
   ]
  },
  {
   "cell_type": "code",
   "execution_count": 33,
   "id": "6d4e31c6-e314-48c7-8ca5-f75c7f845e5f",
   "metadata": {},
   "outputs": [
    {
     "ename": "TypeError",
     "evalue": "pop expected at least 1 argument, got 0",
     "output_type": "error",
     "traceback": [
      "\u001b[0;31m---------------------------------------------------------------------------\u001b[0m",
      "\u001b[0;31mTypeError\u001b[0m                                 Traceback (most recent call last)",
      "Cell \u001b[0;32mIn[33], line 1\u001b[0m\n\u001b[0;32m----> 1\u001b[0m \u001b[43md6\u001b[49m\u001b[38;5;241;43m.\u001b[39;49m\u001b[43mpop\u001b[49m\u001b[43m(\u001b[49m\u001b[43m)\u001b[49m\n",
      "\u001b[0;31mTypeError\u001b[0m: pop expected at least 1 argument, got 0"
     ]
    }
   ],
   "source": [
    "d6.pop()"
   ]
  },
  {
   "cell_type": "markdown",
   "id": "299e707e-e772-47e5-aef8-330745482ed9",
   "metadata": {},
   "source": [
    "## CONITIONAL STATEMENTS"
   ]
  },
  {
   "cell_type": "code",
   "execution_count": 35,
   "id": "c3f67cde-5aed-4143-ae5e-24635dde88b4",
   "metadata": {},
   "outputs": [
    {
     "name": "stdin",
     "output_type": "stream",
     "text": [
      "enter your marks  98\n"
     ]
    },
    {
     "name": "stdout",
     "output_type": "stream",
     "text": [
      "You will be part of A0 batch\n"
     ]
    }
   ],
   "source": [
    "marks = int(input(\"enter your marks \" ))\n",
    "\n",
    "if marks >= 80 :\n",
    "    print('You will be part of A0 batch')\n",
    "    \n",
    "elif marks >= 60 and marks < 80 :\n",
    "    print('You will be part of A1 batch')\n",
    "\n",
    "elif marks >= 40 and marks < 60 :\n",
    "    print('You will be part of A2 batch')\n",
    "    \n",
    "else :\n",
    "    print('You will be part of A3 batch')\n",
    "    "
   ]
  },
  {
   "cell_type": "code",
   "execution_count": 36,
   "id": "a63d8d1b-475f-4e09-a2f8-eb11336165fb",
   "metadata": {},
   "outputs": [
    {
     "data": {
      "text/plain": [
       "98"
      ]
     },
     "execution_count": 36,
     "metadata": {},
     "output_type": "execute_result"
    }
   ],
   "source": [
    "marks"
   ]
  },
  {
   "cell_type": "code",
   "execution_count": 37,
   "id": "b43a5136-c41a-4494-8450-e9ee275cb73c",
   "metadata": {},
   "outputs": [
    {
     "data": {
      "text/plain": [
       "int"
      ]
     },
     "execution_count": 37,
     "metadata": {},
     "output_type": "execute_result"
    }
   ],
   "source": [
    "type(marks)"
   ]
  },
  {
   "cell_type": "code",
   "execution_count": 39,
   "id": "79cbfab8-43cd-4b5e-923c-ecbc5d3cdfb8",
   "metadata": {},
   "outputs": [
    {
     "name": "stdin",
     "output_type": "stream",
     "text": [
      "enter price  200\n"
     ]
    },
    {
     "name": "stdout",
     "output_type": "stream",
     "text": [
      "I will purchase it\n"
     ]
    }
   ],
   "source": [
    "price = int(input('enter price '))\n",
    "if price > 1000 :\n",
    "    print('I will not not purchase')\n",
    "else :\n",
    "    print('I will purchase it')"
   ]
  },
  {
   "cell_type": "code",
   "execution_count": 48,
   "id": "f757784f-6b3b-4c09-9c32-6f1d85d05031",
   "metadata": {},
   "outputs": [
    {
     "name": "stdin",
     "output_type": "stream",
     "text": [
      "enter price  1000\n"
     ]
    },
    {
     "name": "stdout",
     "output_type": "stream",
     "text": [
      "not intrested\n"
     ]
    }
   ],
   "source": [
    "price = int(input('enter price '))\n",
    "if price > 1000 :\n",
    "    print('I will not not purchase')\n",
    "    if price > 5000:\n",
    "        print('This is too much')\n",
    "    elif price < 2000 :\n",
    "        print(\"it's ok\")\n",
    "elif price < 1000 :\n",
    "    print('I will purchase')\n",
    "else :\n",
    "    print('not intrested')"
   ]
  },
  {
   "cell_type": "code",
   "execution_count": 49,
   "id": "3a5b9c30-8d87-46d6-8c62-b754cbd175bf",
   "metadata": {},
   "outputs": [],
   "source": [
    "l = [1,2,3,3,4,5,6,7,8]"
   ]
  },
  {
   "cell_type": "code",
   "execution_count": 53,
   "id": "6ec225f0-7005-4803-aee5-928ddc7a3025",
   "metadata": {},
   "outputs": [
    {
     "name": "stdout",
     "output_type": "stream",
     "text": [
      "[2, 3, 4, 4, 5, 6, 7, 8, 9]\n"
     ]
    }
   ],
   "source": [
    "x = []\n",
    "for i in l:\n",
    "    i += 1\n",
    "    x.append(i)\n",
    "\n",
    "print(x)"
   ]
  },
  {
   "cell_type": "code",
   "execution_count": 54,
   "id": "3e53a9f4-dbb7-4632-8b24-3904d83baa8b",
   "metadata": {},
   "outputs": [],
   "source": [
    "l = ['sudh' , 'kumar' , 'pwskills' , 'course']"
   ]
  },
  {
   "cell_type": "code",
   "execution_count": 57,
   "id": "c5e0a487-0a23-486d-a7c4-19840bcffefe",
   "metadata": {},
   "outputs": [
    {
     "data": {
      "text/plain": [
       "['SUDH', 'KUMAR', 'PWSKILLS', 'COURSE']"
      ]
     },
     "execution_count": 57,
     "metadata": {},
     "output_type": "execute_result"
    }
   ],
   "source": [
    "x = []\n",
    "\n",
    "for i in l:\n",
    "    x.append(i.upper())\n",
    "    \n",
    "x"
   ]
  },
  {
   "cell_type": "code",
   "execution_count": 58,
   "id": "f09260d8-10be-43bf-9b75-5d6115e93ad5",
   "metadata": {},
   "outputs": [],
   "source": [
    "l = [1,2,3,4,4,'sudh' , 'Kumar' , 324 , 34.555 , 'abc']"
   ]
  },
  {
   "cell_type": "code",
   "execution_count": 62,
   "id": "c75fa3ac-21dc-466f-800a-0e4a1214fd38",
   "metadata": {},
   "outputs": [
    {
     "name": "stdout",
     "output_type": "stream",
     "text": [
      "[1, 2, 3, 4, 4, 324, 34.555]\n",
      "['sudh', 'Kumar', 'abc']\n"
     ]
    }
   ],
   "source": [
    "x1 = []\n",
    "x2 = []\n",
    "\n",
    "for i in l :\n",
    "    if type(i) == int or type(i) == float :\n",
    "        x1.append(i)\n",
    "    else :\n",
    "        x2.append(i)\n",
    "        \n",
    "print(x1)\n",
    "print(x2)"
   ]
  },
  {
   "cell_type": "code",
   "execution_count": null,
   "id": "e5a6f236-15bb-4cb0-bdfc-fb91ee574ec5",
   "metadata": {},
   "outputs": [],
   "source": []
  }
 ],
 "metadata": {
  "kernelspec": {
   "display_name": "Python 3 (ipykernel)",
   "language": "python",
   "name": "python3"
  },
  "language_info": {
   "codemirror_mode": {
    "name": "ipython",
    "version": 3
   },
   "file_extension": ".py",
   "mimetype": "text/x-python",
   "name": "python",
   "nbconvert_exporter": "python",
   "pygments_lexer": "ipython3",
   "version": "3.10.8"
  }
 },
 "nbformat": 4,
 "nbformat_minor": 5
}
