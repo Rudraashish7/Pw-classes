{
 "cells": [
  {
   "cell_type": "markdown",
   "id": "b8923f21-e6ee-4c8a-b4cc-5db6a572deac",
   "metadata": {},
   "source": [
    "# List"
   ]
  },
  {
   "cell_type": "code",
   "execution_count": 1,
   "id": "a486177e-ea5c-400d-8463-6f4e1acdbc2b",
   "metadata": {},
   "outputs": [],
   "source": [
    "l = [1, 345, 56, 'rudra', True , 5+7j, 345.456 ] # constructing a list \n",
    "\n",
    "# Here Elements are of any data types "
   ]
  },
  {
   "cell_type": "code",
   "execution_count": 3,
   "id": "d1412080-13bd-44c2-83a1-86ae39c526d0",
   "metadata": {},
   "outputs": [
    {
     "data": {
      "text/plain": [
       "[1, 345, 56, 'rudra', True, (5+7j), 345.456]"
      ]
     },
     "execution_count": 3,
     "metadata": {},
     "output_type": "execute_result"
    }
   ],
   "source": [
    "l"
   ]
  },
  {
   "cell_type": "code",
   "execution_count": 4,
   "id": "0b040852-8f30-40f2-b92d-3cee812ee441",
   "metadata": {},
   "outputs": [
    {
     "data": {
      "text/plain": [
       "list"
      ]
     },
     "execution_count": 4,
     "metadata": {},
     "output_type": "execute_result"
    }
   ],
   "source": [
    "type(l) "
   ]
  },
  {
   "cell_type": "markdown",
   "id": "df17e13b-20d2-4bc1-9bf9-e64794fc7dab",
   "metadata": {},
   "source": [
    "## Indexing and Slicing Concept in Python"
   ]
  },
  {
   "cell_type": "markdown",
   "id": "75e55040-b902-49f0-b55a-d6a4ba893775",
   "metadata": {},
   "source": [
    "### Indexing"
   ]
  },
  {
   "cell_type": "code",
   "execution_count": 5,
   "id": "905ce36e-5d78-4c47-b47f-6957fc09610a",
   "metadata": {},
   "outputs": [
    {
     "data": {
      "text/plain": [
       "1"
      ]
     },
     "execution_count": 5,
     "metadata": {},
     "output_type": "execute_result"
    }
   ],
   "source": [
    "l[0] # Finding the element present at 0 index pos"
   ]
  },
  {
   "cell_type": "code",
   "execution_count": 6,
   "id": "926272f1-9117-4e5a-9ae1-f0826a36816c",
   "metadata": {},
   "outputs": [
    {
     "data": {
      "text/plain": [
       "345.456"
      ]
     },
     "execution_count": 6,
     "metadata": {},
     "output_type": "execute_result"
    }
   ],
   "source": [
    "l[6] # Finding the element present at 6 index pos"
   ]
  },
  {
   "cell_type": "code",
   "execution_count": 7,
   "id": "70f826a3-ed84-4aac-be88-d5f38b15a6e9",
   "metadata": {},
   "outputs": [
    {
     "ename": "IndexError",
     "evalue": "list index out of range",
     "output_type": "error",
     "traceback": [
      "\u001b[0;31m---------------------------------------------------------------------------\u001b[0m",
      "\u001b[0;31mIndexError\u001b[0m                                Traceback (most recent call last)",
      "Cell \u001b[0;32mIn[7], line 1\u001b[0m\n\u001b[0;32m----> 1\u001b[0m \u001b[43ml\u001b[49m\u001b[43m[\u001b[49m\u001b[38;5;241;43m90\u001b[39;49m\u001b[43m]\u001b[49m \u001b[38;5;66;03m# Finding the element present at 90 index pos\u001b[39;00m\n\u001b[1;32m      2\u001b[0m \u001b[38;5;66;03m# which is outside the range of list \u001b[39;00m\n\u001b[1;32m      3\u001b[0m \u001b[38;5;66;03m# we will get error here \u001b[39;00m\n",
      "\u001b[0;31mIndexError\u001b[0m: list index out of range"
     ]
    }
   ],
   "source": [
    "l[90] # Finding the element present at 90 index pos\n",
    "# which is outside the range of list \n",
    "# we will get error here "
   ]
  },
  {
   "cell_type": "markdown",
   "id": "c92a7670-d9eb-4ebe-823b-637d6d59a099",
   "metadata": {},
   "source": [
    "### Slicing"
   ]
  },
  {
   "cell_type": "code",
   "execution_count": 8,
   "id": "1bf79d09-199f-40fb-888c-0242b1718357",
   "metadata": {},
   "outputs": [
    {
     "data": {
      "text/plain": [
       "[1, 345, 56]"
      ]
     },
     "execution_count": 8,
     "metadata": {},
     "output_type": "execute_result"
    }
   ],
   "source": [
    "l [0:3] # WE want sliced elements of 1st, 2nd, 3rd element of list "
   ]
  },
  {
   "cell_type": "code",
   "execution_count": 9,
   "id": "24dd2b80-abf9-4dbb-af41-cde5cc436f99",
   "metadata": {},
   "outputs": [
    {
     "data": {
      "text/plain": [
       "345.456"
      ]
     },
     "execution_count": 9,
     "metadata": {},
     "output_type": "execute_result"
    }
   ],
   "source": [
    "l[-1] # printing the last element of the list"
   ]
  },
  {
   "cell_type": "code",
   "execution_count": 10,
   "id": "45271897-d706-4a42-9ee2-5e00dd36ab13",
   "metadata": {},
   "outputs": [
    {
     "data": {
      "text/plain": [
       "[345.456, (5+7j), True, 'rudra', 56, 345, 1]"
      ]
     },
     "execution_count": 10,
     "metadata": {},
     "output_type": "execute_result"
    }
   ],
   "source": [
    "l[: : -1] # printing the lis in reverse order "
   ]
  },
  {
   "cell_type": "code",
   "execution_count": 11,
   "id": "19a46650-8984-46af-91e4-f1ee2ff65ebb",
   "metadata": {},
   "outputs": [
    {
     "data": {
      "text/plain": [
       "[1, 56, True, 345.456]"
      ]
     },
     "execution_count": 11,
     "metadata": {},
     "output_type": "execute_result"
    }
   ],
   "source": [
    "l[ : : 2] # printing the element present at the even index postion number \n"
   ]
  },
  {
   "cell_type": "code",
   "execution_count": 12,
   "id": "6ec118f7-da75-41c3-9fde-bc9e155f3357",
   "metadata": {},
   "outputs": [],
   "source": [
    "s = 'pwskills'"
   ]
  },
  {
   "cell_type": "code",
   "execution_count": 13,
   "id": "51bf11d2-ab18-4341-8f8b-a97cf48624df",
   "metadata": {},
   "outputs": [
    {
     "ename": "TypeError",
     "evalue": "can only concatenate list (not \"str\") to list",
     "output_type": "error",
     "traceback": [
      "\u001b[0;31m---------------------------------------------------------------------------\u001b[0m",
      "\u001b[0;31mTypeError\u001b[0m                                 Traceback (most recent call last)",
      "Cell \u001b[0;32mIn[13], line 1\u001b[0m\n\u001b[0;32m----> 1\u001b[0m \u001b[43ml\u001b[49m\u001b[43m \u001b[49m\u001b[38;5;241;43m+\u001b[39;49m\u001b[43m \u001b[49m\u001b[43ms\u001b[49m \u001b[38;5;66;03m# we cannot concatinate list with string\u001b[39;00m\n",
      "\u001b[0;31mTypeError\u001b[0m: can only concatenate list (not \"str\") to list"
     ]
    }
   ],
   "source": [
    "l + s # we cannot concatinate list with string"
   ]
  },
  {
   "cell_type": "code",
   "execution_count": 14,
   "id": "fc659c42-c91a-455a-bc2e-09503648f74d",
   "metadata": {},
   "outputs": [
    {
     "data": {
      "text/plain": [
       "['p', 'w', 's', 'k', 'i', 'l', 'l', 's']"
      ]
     },
     "execution_count": 14,
     "metadata": {},
     "output_type": "execute_result"
    }
   ],
   "source": [
    "list(s) # it converts a string into a listby breaking it into a list of characters"
   ]
  },
  {
   "cell_type": "code",
   "execution_count": 15,
   "id": "f3d4c861-7c34-4e4e-ab35-ed4994ff571e",
   "metadata": {},
   "outputs": [
    {
     "data": {
      "text/plain": [
       "['p',\n",
       " 'w',\n",
       " 's',\n",
       " 'k',\n",
       " 'i',\n",
       " 'l',\n",
       " 'l',\n",
       " 's',\n",
       " 1,\n",
       " 345,\n",
       " 56,\n",
       " 'rudra',\n",
       " True,\n",
       " (5+7j),\n",
       " 345.456]"
      ]
     },
     "execution_count": 15,
     "metadata": {},
     "output_type": "execute_result"
    }
   ],
   "source": [
    "list(s) + l"
   ]
  },
  {
   "cell_type": "code",
   "execution_count": 16,
   "id": "f30ee15c-e8a7-4aff-9664-2444dd6814ce",
   "metadata": {},
   "outputs": [
    {
     "data": {
      "text/plain": [
       "[1, 345, 56, 'rudra', True, (5+7j), 345.456]"
      ]
     },
     "execution_count": 16,
     "metadata": {},
     "output_type": "execute_result"
    }
   ],
   "source": [
    "l"
   ]
  },
  {
   "cell_type": "code",
   "execution_count": 17,
   "id": "d77e13d2-19c3-454d-a6ca-b9bcf140d756",
   "metadata": {},
   "outputs": [
    {
     "data": {
      "text/plain": [
       "'ru'"
      ]
     },
     "execution_count": 17,
     "metadata": {},
     "output_type": "execute_result"
    }
   ],
   "source": [
    "l[3][:2] # extracting 'ru' form the list"
   ]
  },
  {
   "cell_type": "code",
   "execution_count": 18,
   "id": "1a25567b-59b1-434c-a9a8-d29a783d1413",
   "metadata": {},
   "outputs": [
    {
     "ename": "TypeError",
     "evalue": "'bool' object is not subscriptable",
     "output_type": "error",
     "traceback": [
      "\u001b[0;31m---------------------------------------------------------------------------\u001b[0m",
      "\u001b[0;31mTypeError\u001b[0m                                 Traceback (most recent call last)",
      "Cell \u001b[0;32mIn[18], line 1\u001b[0m\n\u001b[0;32m----> 1\u001b[0m \u001b[43ml\u001b[49m\u001b[43m[\u001b[49m\u001b[38;5;241;43m4\u001b[39;49m\u001b[43m]\u001b[49m\u001b[43m[\u001b[49m\u001b[43m:\u001b[49m\u001b[38;5;241;43m2\u001b[39;49m\u001b[43m]\u001b[49m \u001b[38;5;66;03m# we cannot extracted \"tr\" from \"true\" since \"true\" is of boolean data type not of string data type\u001b[39;00m\n",
      "\u001b[0;31mTypeError\u001b[0m: 'bool' object is not subscriptable"
     ]
    }
   ],
   "source": [
    "l[4][:2] # we cannot extracted \"tr\" from \"true\" since \"true\" is of boolean data type not of string data type"
   ]
  },
  {
   "cell_type": "code",
   "execution_count": 19,
   "id": "24e9de6b-33b3-46ba-8b82-097e484f6d87",
   "metadata": {},
   "outputs": [
    {
     "data": {
      "text/plain": [
       "'Tr'"
      ]
     },
     "execution_count": 19,
     "metadata": {},
     "output_type": "execute_result"
    }
   ],
   "source": [
    "# if we want to extract \"tr\" from \"true\" then we have to perform type casting\n",
    "str(l[4])[:2]"
   ]
  },
  {
   "cell_type": "code",
   "execution_count": 20,
   "id": "ad8e9d54-902f-4c3f-82de-73e14d19011d",
   "metadata": {},
   "outputs": [
    {
     "data": {
      "text/plain": [
       "[1, 345, 56, 'rudra', True, (5+7j), 345.456]"
      ]
     },
     "execution_count": 20,
     "metadata": {},
     "output_type": "execute_result"
    }
   ],
   "source": [
    "l"
   ]
  },
  {
   "cell_type": "code",
   "execution_count": 21,
   "id": "e98d6e87-075c-4c28-a799-d0cd2a1f130b",
   "metadata": {},
   "outputs": [
    {
     "ename": "TypeError",
     "evalue": "can only concatenate list (not \"int\") to list",
     "output_type": "error",
     "traceback": [
      "\u001b[0;31m---------------------------------------------------------------------------\u001b[0m",
      "\u001b[0;31mTypeError\u001b[0m                                 Traceback (most recent call last)",
      "Cell \u001b[0;32mIn[21], line 1\u001b[0m\n\u001b[0;32m----> 1\u001b[0m \u001b[43ml\u001b[49m\u001b[38;5;241;43m+\u001b[39;49m\u001b[38;5;241;43m5\u001b[39;49m \u001b[38;5;66;03m# we cannot concatnate list to a list not an integer \u001b[39;00m\n",
      "\u001b[0;31mTypeError\u001b[0m: can only concatenate list (not \"int\") to list"
     ]
    }
   ],
   "source": [
    "l+5 # we cannot concatnate list to a list not an integer "
   ]
  },
  {
   "cell_type": "code",
   "execution_count": 22,
   "id": "c66640a8-dfcd-4800-9f5f-4597113b3f62",
   "metadata": {},
   "outputs": [],
   "source": [
    "l1 = [3,4,5]"
   ]
  },
  {
   "cell_type": "code",
   "execution_count": 23,
   "id": "2b456381-9d7b-4617-b740-8fcd36b343ca",
   "metadata": {},
   "outputs": [
    {
     "data": {
      "text/plain": [
       "[1, 345, 56, 'rudra', True, (5+7j), 345.456, 3, 4, 5]"
      ]
     },
     "execution_count": 23,
     "metadata": {},
     "output_type": "execute_result"
    }
   ],
   "source": [
    "l + l1 # we can concatinate list into a list"
   ]
  },
  {
   "cell_type": "code",
   "execution_count": 24,
   "id": "a36113c6-e3bb-4f45-a6df-090c6fc2da9a",
   "metadata": {},
   "outputs": [
    {
     "data": {
      "text/plain": [
       "[3, 4, 5, 3, 4, 5, 3, 4, 5]"
      ]
     },
     "execution_count": 24,
     "metadata": {},
     "output_type": "execute_result"
    }
   ],
   "source": [
    "l1 * 3 # we can multiple list "
   ]
  },
  {
   "cell_type": "code",
   "execution_count": 25,
   "id": "bc3dc829-bb2f-4e0c-9206-3278cceea0a7",
   "metadata": {},
   "outputs": [
    {
     "data": {
      "text/plain": [
       "[1, 345, 56, 'rudra', True, (5+7j), 345.456]"
      ]
     },
     "execution_count": 25,
     "metadata": {},
     "output_type": "execute_result"
    }
   ],
   "source": [
    "l"
   ]
  },
  {
   "cell_type": "code",
   "execution_count": 26,
   "id": "107d3f12-2a18-451c-b72b-034f954ae6ef",
   "metadata": {},
   "outputs": [
    {
     "data": {
      "text/plain": [
       "7"
      ]
     },
     "execution_count": 26,
     "metadata": {},
     "output_type": "execute_result"
    }
   ],
   "source": [
    "len(l) # Finding the number of element in the list"
   ]
  },
  {
   "cell_type": "code",
   "execution_count": 27,
   "id": "68341465-164f-4990-8d9a-b63502876a9c",
   "metadata": {},
   "outputs": [
    {
     "data": {
      "text/plain": [
       "[1, 345, 56, 'rudra', True, (5+7j), 345.456]"
      ]
     },
     "execution_count": 27,
     "metadata": {},
     "output_type": "execute_result"
    }
   ],
   "source": [
    "l"
   ]
  },
  {
   "cell_type": "code",
   "execution_count": 28,
   "id": "9f25fa82-ee79-49a4-b9d2-e398271efb7a",
   "metadata": {},
   "outputs": [],
   "source": [
    "l.append(5) # append is an in-bulit function on list which is used to add a perticular element to a list"
   ]
  },
  {
   "cell_type": "code",
   "execution_count": 29,
   "id": "c628fe6f-eae3-4d2a-ad0c-51e8ea563002",
   "metadata": {},
   "outputs": [
    {
     "data": {
      "text/plain": [
       "[1, 345, 56, 'rudra', True, (5+7j), 345.456, 5]"
      ]
     },
     "execution_count": 29,
     "metadata": {},
     "output_type": "execute_result"
    }
   ],
   "source": [
    "l"
   ]
  },
  {
   "cell_type": "code",
   "execution_count": 30,
   "id": "0dac8294-8299-42f9-9674-0a2cd3a8f89b",
   "metadata": {},
   "outputs": [],
   "source": [
    "l.append(s) # appending \"pwskills\" present in s variable to our list"
   ]
  },
  {
   "cell_type": "code",
   "execution_count": 31,
   "id": "e4ff5771-a715-4a4a-afe1-968ad532132b",
   "metadata": {},
   "outputs": [
    {
     "data": {
      "text/plain": [
       "[1, 345, 56, 'rudra', True, (5+7j), 345.456, 5, 'pwskills']"
      ]
     },
     "execution_count": 31,
     "metadata": {},
     "output_type": "execute_result"
    }
   ],
   "source": [
    "l"
   ]
  },
  {
   "cell_type": "code",
   "execution_count": 32,
   "id": "c0bcc775-2451-41de-98f0-e5ab715c7a41",
   "metadata": {},
   "outputs": [
    {
     "data": {
      "text/plain": [
       "[3, 4, 5]"
      ]
     },
     "execution_count": 32,
     "metadata": {},
     "output_type": "execute_result"
    }
   ],
   "source": [
    "l1"
   ]
  },
  {
   "cell_type": "code",
   "execution_count": 33,
   "id": "498bf57f-db04-4a45-9741-f2f64c6f4cca",
   "metadata": {},
   "outputs": [],
   "source": [
    "l.append(l1) # storing list l1 as an element to a list "
   ]
  },
  {
   "cell_type": "code",
   "execution_count": 34,
   "id": "71b8327b-56c0-4087-a439-1db120fd07b8",
   "metadata": {},
   "outputs": [
    {
     "data": {
      "text/plain": [
       "[1, 345, 56, 'rudra', True, (5+7j), 345.456, 5, 'pwskills', [3, 4, 5]]"
      ]
     },
     "execution_count": 34,
     "metadata": {},
     "output_type": "execute_result"
    }
   ],
   "source": [
    "l"
   ]
  },
  {
   "cell_type": "code",
   "execution_count": 35,
   "id": "553e27eb-b139-4457-bc42-65d90231f602",
   "metadata": {},
   "outputs": [
    {
     "data": {
      "text/plain": [
       "4"
      ]
     },
     "execution_count": 35,
     "metadata": {},
     "output_type": "execute_result"
    }
   ],
   "source": [
    "l[-1][1] # extrating 4 from list"
   ]
  },
  {
   "cell_type": "code",
   "execution_count": 36,
   "id": "eb5288f5-0c5f-4f5a-8e62-ad82e749f681",
   "metadata": {},
   "outputs": [
    {
     "data": {
      "text/plain": [
       "[1, 345, 56, 'rudra', True, (5+7j), 345.456, 5, 'pwskills', [3, 4, 5]]"
      ]
     },
     "execution_count": 36,
     "metadata": {},
     "output_type": "execute_result"
    }
   ],
   "source": [
    "l"
   ]
  },
  {
   "cell_type": "code",
   "execution_count": 37,
   "id": "5419c983-6727-4c30-9a82-f92a6fc2b6e1",
   "metadata": {},
   "outputs": [
    {
     "ename": "TypeError",
     "evalue": "'int' object is not iterable",
     "output_type": "error",
     "traceback": [
      "\u001b[0;31m---------------------------------------------------------------------------\u001b[0m",
      "\u001b[0;31mTypeError\u001b[0m                                 Traceback (most recent call last)",
      "Cell \u001b[0;32mIn[37], line 1\u001b[0m\n\u001b[0;32m----> 1\u001b[0m \u001b[43ml\u001b[49m\u001b[38;5;241;43m.\u001b[39;49m\u001b[43mextend\u001b[49m\u001b[43m(\u001b[49m\u001b[38;5;241;43m4\u001b[39;49m\u001b[43m)\u001b[49m \u001b[38;5;66;03m# if we want to add an ittrable to a list then we will use extend in-built method\u001b[39;00m\n",
      "\u001b[0;31mTypeError\u001b[0m: 'int' object is not iterable"
     ]
    }
   ],
   "source": [
    "l.extend(4) # if we want to add an ittrable to a list then we will use extend in-built method"
   ]
  },
  {
   "cell_type": "code",
   "execution_count": 38,
   "id": "62f91a86-596e-4772-ab8b-4fe898631ca0",
   "metadata": {},
   "outputs": [],
   "source": [
    "l.extend('rudra') # sice string i an ittrable therefore we can extend it in list"
   ]
  },
  {
   "cell_type": "code",
   "execution_count": 39,
   "id": "89d9e94f-6c0a-4a3f-af24-0b2baf8121db",
   "metadata": {},
   "outputs": [
    {
     "data": {
      "text/plain": [
       "[1,\n",
       " 345,\n",
       " 56,\n",
       " 'rudra',\n",
       " True,\n",
       " (5+7j),\n",
       " 345.456,\n",
       " 5,\n",
       " 'pwskills',\n",
       " [3, 4, 5],\n",
       " 'r',\n",
       " 'u',\n",
       " 'd',\n",
       " 'r',\n",
       " 'a']"
      ]
     },
     "execution_count": 39,
     "metadata": {},
     "output_type": "execute_result"
    }
   ],
   "source": [
    "l"
   ]
  },
  {
   "cell_type": "code",
   "execution_count": 40,
   "id": "d0a5cc7a-c771-432e-84bf-5bb30fc284b7",
   "metadata": {},
   "outputs": [],
   "source": [
    "l.extend([3,4,5]) # extending a list cntaing 3,4,5 into list \"l\""
   ]
  },
  {
   "cell_type": "code",
   "execution_count": 41,
   "id": "3fdaa904-88d5-47b7-b76e-6a970463930a",
   "metadata": {},
   "outputs": [
    {
     "data": {
      "text/plain": [
       "[1,\n",
       " 345,\n",
       " 56,\n",
       " 'rudra',\n",
       " True,\n",
       " (5+7j),\n",
       " 345.456,\n",
       " 5,\n",
       " 'pwskills',\n",
       " [3, 4, 5],\n",
       " 'r',\n",
       " 'u',\n",
       " 'd',\n",
       " 'r',\n",
       " 'a',\n",
       " 3,\n",
       " 4,\n",
       " 5]"
      ]
     },
     "execution_count": 41,
     "metadata": {},
     "output_type": "execute_result"
    }
   ],
   "source": [
    "l"
   ]
  },
  {
   "cell_type": "code",
   "execution_count": 42,
   "id": "71d0a4ed-473e-40f7-8f4b-9c62e63264b9",
   "metadata": {},
   "outputs": [],
   "source": [
    "l1 = [3,4,5]"
   ]
  },
  {
   "cell_type": "code",
   "execution_count": 43,
   "id": "33e03a1f-8403-4b2b-9347-a0e38e86903e",
   "metadata": {},
   "outputs": [],
   "source": [
    "l1.insert(1,'rudra') # if we want to add an element to an index at a specific index pos.\n",
    "# we will use insert built-in method"
   ]
  },
  {
   "cell_type": "code",
   "execution_count": 44,
   "id": "8206f3ba-3070-405a-b137-73fb86ecfada",
   "metadata": {},
   "outputs": [
    {
     "data": {
      "text/plain": [
       "[3, 'rudra', 4, 5]"
      ]
     },
     "execution_count": 44,
     "metadata": {},
     "output_type": "execute_result"
    }
   ],
   "source": [
    "l1"
   ]
  },
  {
   "cell_type": "code",
   "execution_count": 45,
   "id": "c14f47dc-fecf-49f0-904c-343fcd0d6219",
   "metadata": {},
   "outputs": [],
   "source": [
    "l1.insert(2, [2,3,4]) # inserting [2,3,4] in l1 at 2 index pos"
   ]
  },
  {
   "cell_type": "code",
   "execution_count": 46,
   "id": "237a0ca5-4c6c-45ed-bc0b-777974a0f335",
   "metadata": {},
   "outputs": [
    {
     "data": {
      "text/plain": [
       "[3, 'rudra', [2, 3, 4], 4, 5]"
      ]
     },
     "execution_count": 46,
     "metadata": {},
     "output_type": "execute_result"
    }
   ],
   "source": [
    "l1"
   ]
  },
  {
   "cell_type": "code",
   "execution_count": 47,
   "id": "8ae6b9ef-2a8e-4819-b204-357a0327959e",
   "metadata": {},
   "outputs": [],
   "source": [
    "l1.insert(-1, 45)"
   ]
  },
  {
   "cell_type": "code",
   "execution_count": 48,
   "id": "bfef7db8-4db3-479b-a358-42a6849c055b",
   "metadata": {},
   "outputs": [
    {
     "data": {
      "text/plain": [
       "[3, 'rudra', [2, 3, 4], 4, 45, 5]"
      ]
     },
     "execution_count": 48,
     "metadata": {},
     "output_type": "execute_result"
    }
   ],
   "source": [
    "l1 # insert 45 at -1 index position"
   ]
  },
  {
   "cell_type": "code",
   "execution_count": 49,
   "id": "33c9b15b-f011-4c33-bb21-3358ad1ad3a6",
   "metadata": {},
   "outputs": [
    {
     "data": {
      "text/plain": [
       "5"
      ]
     },
     "execution_count": 49,
     "metadata": {},
     "output_type": "execute_result"
    }
   ],
   "source": [
    "l1.pop() # Removing an element present at perticular index position in a list\n",
    "# if we don't mention any index number it will pop out the last element of list\n",
    "# it takes indexex as an argument"
   ]
  },
  {
   "cell_type": "code",
   "execution_count": 50,
   "id": "9b690996-088e-4214-9ef0-bfe64e7a32ac",
   "metadata": {},
   "outputs": [
    {
     "data": {
      "text/plain": [
       "[3, 'rudra', [2, 3, 4], 4, 45]"
      ]
     },
     "execution_count": 50,
     "metadata": {},
     "output_type": "execute_result"
    }
   ],
   "source": [
    "l1"
   ]
  },
  {
   "cell_type": "code",
   "execution_count": 51,
   "id": "4b0864af-7f01-4dc0-ab37-c1fc1fc36535",
   "metadata": {},
   "outputs": [
    {
     "data": {
      "text/plain": [
       "45"
      ]
     },
     "execution_count": 51,
     "metadata": {},
     "output_type": "execute_result"
    }
   ],
   "source": [
    "l1.pop()"
   ]
  },
  {
   "cell_type": "code",
   "execution_count": 52,
   "id": "68e124b3-0b79-4ead-8505-3af4c749d049",
   "metadata": {},
   "outputs": [
    {
     "data": {
      "text/plain": [
       "[3, 'rudra', [2, 3, 4], 4]"
      ]
     },
     "execution_count": 52,
     "metadata": {},
     "output_type": "execute_result"
    }
   ],
   "source": [
    "l1"
   ]
  },
  {
   "cell_type": "code",
   "execution_count": 53,
   "id": "f0c8e2d8-71ce-4c23-9051-5674dd80be00",
   "metadata": {},
   "outputs": [
    {
     "data": {
      "text/plain": [
       "[2, 3, 4]"
      ]
     },
     "execution_count": 53,
     "metadata": {},
     "output_type": "execute_result"
    }
   ],
   "source": [
    "l1.pop(2) # It removes the elemnt present "
   ]
  },
  {
   "cell_type": "code",
   "execution_count": 54,
   "id": "e598cd79-1e99-46a4-8ac0-5bbb78ab4c41",
   "metadata": {},
   "outputs": [
    {
     "data": {
      "text/plain": [
       "4"
      ]
     },
     "execution_count": 54,
     "metadata": {},
     "output_type": "execute_result"
    }
   ],
   "source": [
    "l1.pop(2)"
   ]
  },
  {
   "cell_type": "code",
   "execution_count": 55,
   "id": "5fae9ee2-2425-47ab-8e7f-01d8878c2a4a",
   "metadata": {},
   "outputs": [
    {
     "data": {
      "text/plain": [
       "[3, 'rudra']"
      ]
     },
     "execution_count": 55,
     "metadata": {},
     "output_type": "execute_result"
    }
   ],
   "source": [
    "l1"
   ]
  },
  {
   "cell_type": "code",
   "execution_count": 56,
   "id": "1de1d54d-8803-44d1-acd5-06b3c887e11f",
   "metadata": {},
   "outputs": [],
   "source": [
    "l1.remove(\"rudra\") # it is used to remove an element from the list\n",
    "# in argument we give the value as the element which we want to remove"
   ]
  },
  {
   "cell_type": "code",
   "execution_count": 57,
   "id": "8fcbb721-c4f1-402a-9d07-355e6013506a",
   "metadata": {},
   "outputs": [
    {
     "data": {
      "text/plain": [
       "[3]"
      ]
     },
     "execution_count": 57,
     "metadata": {},
     "output_type": "execute_result"
    }
   ],
   "source": [
    "l1"
   ]
  },
  {
   "cell_type": "code",
   "execution_count": 58,
   "id": "5e07b26b-5c87-42ad-a2c8-3363c1879dcb",
   "metadata": {},
   "outputs": [],
   "source": [
    "l1.append([2,3,4])"
   ]
  },
  {
   "cell_type": "code",
   "execution_count": 59,
   "id": "0f4899eb-0868-4807-b297-ae890b104eef",
   "metadata": {},
   "outputs": [
    {
     "data": {
      "text/plain": [
       "[3, [2, 3, 4]]"
      ]
     },
     "execution_count": 59,
     "metadata": {},
     "output_type": "execute_result"
    }
   ],
   "source": [
    "l1"
   ]
  },
  {
   "cell_type": "code",
   "execution_count": 60,
   "id": "838b1870-7410-4b88-8cf8-b50949f88913",
   "metadata": {},
   "outputs": [],
   "source": [
    "l1[1].remove(3) # removing the element present inside a list present in the list\n",
    "# it removes the first occurance of an object"
   ]
  },
  {
   "cell_type": "code",
   "execution_count": 61,
   "id": "27bb017b-0a9f-43dd-bb75-c28ea47c4cda",
   "metadata": {},
   "outputs": [
    {
     "data": {
      "text/plain": [
       "[3, [2, 4]]"
      ]
     },
     "execution_count": 61,
     "metadata": {},
     "output_type": "execute_result"
    }
   ],
   "source": [
    "l1"
   ]
  },
  {
   "cell_type": "code",
   "execution_count": 62,
   "id": "6df19d43-a46e-44f6-a2cb-5d0161951712",
   "metadata": {},
   "outputs": [],
   "source": [
    "l1.insert(1,'sudh')"
   ]
  },
  {
   "cell_type": "code",
   "execution_count": 63,
   "id": "f84efa6e-e342-4f5d-bb29-14db96bcf4ec",
   "metadata": {},
   "outputs": [
    {
     "data": {
      "text/plain": [
       "[3, 'sudh', [2, 4]]"
      ]
     },
     "execution_count": 63,
     "metadata": {},
     "output_type": "execute_result"
    }
   ],
   "source": [
    "l1"
   ]
  },
  {
   "cell_type": "code",
   "execution_count": 64,
   "id": "d9bec670-4316-4909-88fc-751a86f36d28",
   "metadata": {},
   "outputs": [
    {
     "ename": "AttributeError",
     "evalue": "'str' object has no attribute 'remove'",
     "output_type": "error",
     "traceback": [
      "\u001b[0;31m---------------------------------------------------------------------------\u001b[0m",
      "\u001b[0;31mAttributeError\u001b[0m                            Traceback (most recent call last)",
      "Cell \u001b[0;32mIn[64], line 1\u001b[0m\n\u001b[0;32m----> 1\u001b[0m \u001b[43ml1\u001b[49m\u001b[43m[\u001b[49m\u001b[38;5;241;43m1\u001b[39;49m\u001b[43m]\u001b[49m\u001b[38;5;241;43m.\u001b[39;49m\u001b[43mremove\u001b[49m(\u001b[38;5;124m'\u001b[39m\u001b[38;5;124mdh\u001b[39m\u001b[38;5;124m'\u001b[39m) \u001b[38;5;66;03m# we cannot mutatble object \u001b[39;00m\n\u001b[1;32m      2\u001b[0m \u001b[38;5;66;03m# string is a immmutale object\u001b[39;00m\n",
      "\u001b[0;31mAttributeError\u001b[0m: 'str' object has no attribute 'remove'"
     ]
    }
   ],
   "source": [
    "l1[1].remove('dh') # we cannot mutatble object \n",
    "# string is a immmutale object"
   ]
  },
  {
   "cell_type": "code",
   "execution_count": 65,
   "id": "77afdfca-8e26-40a2-b82f-8bd4dd0042ba",
   "metadata": {},
   "outputs": [
    {
     "data": {
      "text/plain": [
       "[3, 'sudh', [2, 4]]"
      ]
     },
     "execution_count": 65,
     "metadata": {},
     "output_type": "execute_result"
    }
   ],
   "source": [
    "l1"
   ]
  },
  {
   "cell_type": "code",
   "execution_count": 66,
   "id": "f1398535-7159-4372-b567-fdd1c2472759",
   "metadata": {},
   "outputs": [],
   "source": [
    "l1.reverse() # it is used to reverse the emelent of the list\n",
    "# it chnges the value stored in list\n",
    "# it is a permanten reverse"
   ]
  },
  {
   "cell_type": "code",
   "execution_count": 67,
   "id": "8df34656-0ec9-4b62-9873-b517c2680db0",
   "metadata": {},
   "outputs": [
    {
     "data": {
      "text/plain": [
       "[[2, 4], 'sudh', 3]"
      ]
     },
     "execution_count": 67,
     "metadata": {},
     "output_type": "execute_result"
    }
   ],
   "source": [
    "l1"
   ]
  },
  {
   "cell_type": "code",
   "execution_count": 68,
   "id": "59969b1a-d854-4fb3-b049-2d89628dcc73",
   "metadata": {},
   "outputs": [
    {
     "ename": "TypeError",
     "evalue": "'<' not supported between instances of 'str' and 'list'",
     "output_type": "error",
     "traceback": [
      "\u001b[0;31m---------------------------------------------------------------------------\u001b[0m",
      "\u001b[0;31mTypeError\u001b[0m                                 Traceback (most recent call last)",
      "Cell \u001b[0;32mIn[68], line 1\u001b[0m\n\u001b[0;32m----> 1\u001b[0m \u001b[43ml1\u001b[49m\u001b[38;5;241;43m.\u001b[39;49m\u001b[43msort\u001b[49m\u001b[43m(\u001b[49m\u001b[43m)\u001b[49m\n",
      "\u001b[0;31mTypeError\u001b[0m: '<' not supported between instances of 'str' and 'list'"
     ]
    }
   ],
   "source": [
    "l1.sort()"
   ]
  },
  {
   "cell_type": "code",
   "execution_count": 69,
   "id": "4c5b7858-887e-4446-945f-906bcf361632",
   "metadata": {},
   "outputs": [],
   "source": [
    "l2 = [3,5543,6346363463,36363346343,255534543,543,54343534543543,5435,435,435,3,5345435]"
   ]
  },
  {
   "cell_type": "code",
   "execution_count": 70,
   "id": "60c59e41-0dbb-4ff3-94c6-7eac8171add7",
   "metadata": {},
   "outputs": [],
   "source": [
    "l2.sort() # this in-bulit method of list is usedd to sort the list in assending order\n",
    "# it performs permanent changes\n",
    "# sort performs the list having elment with similar data type"
   ]
  },
  {
   "cell_type": "code",
   "execution_count": 71,
   "id": "eeed2197-db62-4f9d-bb0e-d755daaac6df",
   "metadata": {},
   "outputs": [
    {
     "data": {
      "text/plain": [
       "[3,\n",
       " 3,\n",
       " 435,\n",
       " 435,\n",
       " 543,\n",
       " 5435,\n",
       " 5543,\n",
       " 5345435,\n",
       " 255534543,\n",
       " 6346363463,\n",
       " 36363346343,\n",
       " 54343534543543]"
      ]
     },
     "execution_count": 71,
     "metadata": {},
     "output_type": "execute_result"
    }
   ],
   "source": [
    "l2"
   ]
  },
  {
   "cell_type": "code",
   "execution_count": 72,
   "id": "8f237459-0f4e-476f-be26-0bcef49a3d7c",
   "metadata": {},
   "outputs": [],
   "source": [
    "l4 = ['sudh','kumar','pwskills','data science']"
   ]
  },
  {
   "cell_type": "code",
   "execution_count": 73,
   "id": "256a201b-45b1-4605-9a18-7eee10cb2c95",
   "metadata": {},
   "outputs": [],
   "source": [
    "l4.sort() # it sorts te alphabet inascending order"
   ]
  },
  {
   "cell_type": "code",
   "execution_count": 74,
   "id": "e96e0a11-02fa-49f2-82d9-fe1aaa8790d6",
   "metadata": {},
   "outputs": [
    {
     "data": {
      "text/plain": [
       "['data science', 'kumar', 'pwskills', 'sudh']"
      ]
     },
     "execution_count": 74,
     "metadata": {},
     "output_type": "execute_result"
    }
   ],
   "source": [
    "l4"
   ]
  },
  {
   "cell_type": "code",
   "execution_count": 75,
   "id": "9e23f2ea-e95a-4199-af7b-bf66825a2929",
   "metadata": {},
   "outputs": [],
   "source": [
    "# If we want to sort the list in decending order\n",
    "l4.sort(reverse = True)"
   ]
  },
  {
   "cell_type": "code",
   "execution_count": 76,
   "id": "101a7d9d-8aa2-41a8-af90-cdf4f4627afd",
   "metadata": {},
   "outputs": [
    {
     "data": {
      "text/plain": [
       "['sudh', 'pwskills', 'kumar', 'data science']"
      ]
     },
     "execution_count": 76,
     "metadata": {},
     "output_type": "execute_result"
    }
   ],
   "source": [
    "l4"
   ]
  },
  {
   "cell_type": "code",
   "execution_count": 77,
   "id": "ea1a1bd3-130a-4c0e-87b1-6a54b7887135",
   "metadata": {},
   "outputs": [
    {
     "data": {
      "text/plain": [
       "0"
      ]
     },
     "execution_count": 77,
     "metadata": {},
     "output_type": "execute_result"
    }
   ],
   "source": [
    "l4.index('sudh') # it is used t0 find the index position of firts occurance"
   ]
  },
  {
   "cell_type": "code",
   "execution_count": 78,
   "id": "4d9a3a10-f63f-45db-8412-a03128d17fe8",
   "metadata": {},
   "outputs": [
    {
     "data": {
      "text/plain": [
       "1"
      ]
     },
     "execution_count": 78,
     "metadata": {},
     "output_type": "execute_result"
    }
   ],
   "source": [
    "l4.count('sudh') # it is used o find the no of time the follwng element is present in the list "
   ]
  },
  {
   "cell_type": "code",
   "execution_count": 79,
   "id": "2b9e78a4-07e6-44f4-b5fc-2dcd04abd319",
   "metadata": {},
   "outputs": [],
   "source": [
    "s = 'sudh'"
   ]
  },
  {
   "cell_type": "code",
   "execution_count": 80,
   "id": "0f81d588-2ffd-45fa-adc3-feb97fea2522",
   "metadata": {},
   "outputs": [],
   "source": [
    "l5 = [3,4,5,6]"
   ]
  },
  {
   "cell_type": "code",
   "execution_count": 81,
   "id": "b2b696df-e48d-49c3-8705-eee6544ead2b",
   "metadata": {},
   "outputs": [
    {
     "ename": "TypeError",
     "evalue": "'str' object does not support item assignment",
     "output_type": "error",
     "traceback": [
      "\u001b[0;31m---------------------------------------------------------------------------\u001b[0m",
      "\u001b[0;31mTypeError\u001b[0m                                 Traceback (most recent call last)",
      "Cell \u001b[0;32mIn[81], line 1\u001b[0m\n\u001b[0;32m----> 1\u001b[0m \u001b[43ms\u001b[49m\u001b[43m[\u001b[49m\u001b[38;5;241;43m0\u001b[39;49m\u001b[43m]\u001b[49m \u001b[38;5;241m=\u001b[39m \u001b[38;5;124m'\u001b[39m\u001b[38;5;124ma\u001b[39m\u001b[38;5;124m'\u001b[39m \u001b[38;5;66;03m# we cannot change the string\u001b[39;00m\n\u001b[1;32m      2\u001b[0m \u001b[38;5;66;03m# it is immutable\u001b[39;00m\n",
      "\u001b[0;31mTypeError\u001b[0m: 'str' object does not support item assignment"
     ]
    }
   ],
   "source": [
    "s[0] = 'a' # we cannot change the string\n",
    "# it is immutable"
   ]
  },
  {
   "cell_type": "code",
   "execution_count": 82,
   "id": "3af2e04c-ed92-4485-bdb6-05fd8725e747",
   "metadata": {},
   "outputs": [],
   "source": [
    "l5[0] = 30  # in list we can change the element of the list \n",
    "# it is because the list is immutable "
   ]
  },
  {
   "cell_type": "code",
   "execution_count": 83,
   "id": "071d8bae-9418-4905-a0a5-0ccb84754c75",
   "metadata": {},
   "outputs": [
    {
     "data": {
      "text/plain": [
       "[30, 4, 5, 6]"
      ]
     },
     "execution_count": 83,
     "metadata": {},
     "output_type": "execute_result"
    }
   ],
   "source": [
    "l5"
   ]
  },
  {
   "cell_type": "markdown",
   "id": "ab750bb4-b06a-454b-83e6-8a4486a1b060",
   "metadata": {},
   "source": [
    "Mutablilty = if u can change element present a specific index position with another element then we can call that object as mutbale  "
   ]
  },
  {
   "cell_type": "code",
   "execution_count": 86,
   "id": "09507870-d6aa-4b64-8fdc-a048bfddf065",
   "metadata": {},
   "outputs": [
    {
     "data": {
      "text/plain": [
       "'audh'"
      ]
     },
     "execution_count": 86,
     "metadata": {},
     "output_type": "execute_result"
    }
   ],
   "source": [
    "s.replace('s','a') # in case of string we can use in-built replace method to \n",
    "# replace the character of a string \n",
    "# it wii generate a new object \n",
    "# it will not change original object stored in the \"s\" variable "
   ]
  },
  {
   "cell_type": "code",
   "execution_count": 87,
   "id": "c976def6-94d8-427e-b0aa-d451882a7a1b",
   "metadata": {},
   "outputs": [
    {
     "data": {
      "text/plain": [
       "'sudh'"
      ]
     },
     "execution_count": 87,
     "metadata": {},
     "output_type": "execute_result"
    }
   ],
   "source": [
    "s"
   ]
  },
  {
   "cell_type": "markdown",
   "id": "62d8be82-7b12-49b2-9c23-2b69030354d0",
   "metadata": {},
   "source": [
    "# Tuples"
   ]
  },
  {
   "cell_type": "markdown",
   "id": "00608068-80db-4e52-9048-1c597278a961",
   "metadata": {},
   "source": [
    "Tuples are data set which is similar to list. the only diffrance between set and tuples is:\n",
    "\n",
    "  1- It uses round bracket to store element in it.\n",
    "  \n",
    "  2 - It is immutable in nature."
   ]
  },
  {
   "cell_type": "code",
   "execution_count": 88,
   "id": "138b0331-e6e1-4016-bd91-59f7dfdfc64e",
   "metadata": {},
   "outputs": [],
   "source": [
    "t = (2,3,4,5, 'sudh' , 45.65 , False, 45+456j , [3,4,5] )"
   ]
  },
  {
   "cell_type": "code",
   "execution_count": 89,
   "id": "5fce2fe5-337a-4446-b119-bf590573d10d",
   "metadata": {},
   "outputs": [
    {
     "data": {
      "text/plain": [
       "(2, 3, 4, 5, 'sudh', 45.65, False, (45+456j), [3, 4, 5])"
      ]
     },
     "execution_count": 89,
     "metadata": {},
     "output_type": "execute_result"
    }
   ],
   "source": [
    "t"
   ]
  },
  {
   "cell_type": "code",
   "execution_count": 90,
   "id": "41bc6ee9-b256-49f9-9d83-72c1ab8adc0a",
   "metadata": {},
   "outputs": [
    {
     "data": {
      "text/plain": [
       "tuple"
      ]
     },
     "execution_count": 90,
     "metadata": {},
     "output_type": "execute_result"
    }
   ],
   "source": [
    "type(t)"
   ]
  },
  {
   "cell_type": "code",
   "execution_count": 91,
   "id": "bfaf23f0-3dab-47f0-ae58-f0427bc58dae",
   "metadata": {},
   "outputs": [
    {
     "data": {
      "text/plain": [
       "9"
      ]
     },
     "execution_count": 91,
     "metadata": {},
     "output_type": "execute_result"
    }
   ],
   "source": [
    "len(t)"
   ]
  },
  {
   "cell_type": "code",
   "execution_count": 92,
   "id": "95737bed-5b13-45ff-ae96-a91158dd58ae",
   "metadata": {},
   "outputs": [
    {
     "data": {
      "text/plain": [
       "2"
      ]
     },
     "execution_count": 92,
     "metadata": {},
     "output_type": "execute_result"
    }
   ],
   "source": [
    "t[0]"
   ]
  },
  {
   "cell_type": "code",
   "execution_count": 93,
   "id": "1bdb548b-cd9b-4515-afc5-956d837b7e6c",
   "metadata": {},
   "outputs": [
    {
     "data": {
      "text/plain": [
       "[3, 4, 5]"
      ]
     },
     "execution_count": 93,
     "metadata": {},
     "output_type": "execute_result"
    }
   ],
   "source": [
    "t[-1]"
   ]
  },
  {
   "cell_type": "code",
   "execution_count": 94,
   "id": "1715e5e3-3074-4da1-bcd1-e73b4f9baee9",
   "metadata": {},
   "outputs": [
    {
     "data": {
      "text/plain": [
       "([3, 4, 5], (45+456j), False, 45.65, 'sudh', 5, 4, 3, 2)"
      ]
     },
     "execution_count": 94,
     "metadata": {},
     "output_type": "execute_result"
    }
   ],
   "source": [
    "t[::-1]"
   ]
  },
  {
   "cell_type": "code",
   "execution_count": 96,
   "id": "4b3b26f7-ba5e-4ebe-b54b-f3487d1773fe",
   "metadata": {},
   "outputs": [
    {
     "data": {
      "text/plain": [
       "['sudh', 'pwskills', 'kumar', 'data science']"
      ]
     },
     "execution_count": 96,
     "metadata": {},
     "output_type": "execute_result"
    }
   ],
   "source": [
    "l4"
   ]
  },
  {
   "cell_type": "code",
   "execution_count": 97,
   "id": "7862cbd4-5648-499e-8544-c426ac174d87",
   "metadata": {},
   "outputs": [],
   "source": [
    "l4[0] = 23424"
   ]
  },
  {
   "cell_type": "code",
   "execution_count": 98,
   "id": "9445f121-05ff-49fd-b37a-131c47478b4b",
   "metadata": {},
   "outputs": [
    {
     "data": {
      "text/plain": [
       "[23424, 'pwskills', 'kumar', 'data science']"
      ]
     },
     "execution_count": 98,
     "metadata": {},
     "output_type": "execute_result"
    }
   ],
   "source": [
    "l4"
   ]
  },
  {
   "cell_type": "code",
   "execution_count": 99,
   "id": "502706d1-c650-4c2f-aa26-dfb42b45c207",
   "metadata": {},
   "outputs": [
    {
     "data": {
      "text/plain": [
       "(2, 3, 4, 5, 'sudh', 45.65, False, (45+456j), [3, 4, 5])"
      ]
     },
     "execution_count": 99,
     "metadata": {},
     "output_type": "execute_result"
    }
   ],
   "source": [
    "t"
   ]
  },
  {
   "cell_type": "code",
   "execution_count": 100,
   "id": "29f1f985-b5dd-4dcf-9552-8a3c1ac83850",
   "metadata": {},
   "outputs": [
    {
     "data": {
      "text/plain": [
       "2"
      ]
     },
     "execution_count": 100,
     "metadata": {},
     "output_type": "execute_result"
    }
   ],
   "source": [
    "t[0]"
   ]
  },
  {
   "cell_type": "code",
   "execution_count": 102,
   "id": "df7c3e07-3e29-4a11-af73-20a6fcf89531",
   "metadata": {},
   "outputs": [
    {
     "ename": "TypeError",
     "evalue": "'tuple' object does not support item assignment",
     "output_type": "error",
     "traceback": [
      "\u001b[0;31m---------------------------------------------------------------------------\u001b[0m",
      "\u001b[0;31mTypeError\u001b[0m                                 Traceback (most recent call last)",
      "Cell \u001b[0;32mIn[102], line 1\u001b[0m\n\u001b[0;32m----> 1\u001b[0m \u001b[43mt\u001b[49m\u001b[43m[\u001b[49m\u001b[38;5;241;43m0\u001b[39;49m\u001b[43m]\u001b[49m \u001b[38;5;241m=\u001b[39m \u001b[38;5;124m'\u001b[39m\u001b[38;5;124msudh\u001b[39m\u001b[38;5;124m'\u001b[39m \u001b[38;5;66;03m# Since tuples ar immutable in nature therefore we cannot change elemnts of tuples using item assignment \u001b[39;00m\n",
      "\u001b[0;31mTypeError\u001b[0m: 'tuple' object does not support item assignment"
     ]
    }
   ],
   "source": [
    "t[0] = 'sudh' # Since tuples ar immutable in nature therefore we cannot change elemnts of tuples using item assignment "
   ]
  },
  {
   "cell_type": "markdown",
   "id": "cff10915-a500-401a-bf88-3b9bdc843ad3",
   "metadata": {},
   "source": [
    "### Function/methods of Tuples"
   ]
  },
  {
   "cell_type": "code",
   "execution_count": 103,
   "id": "9022f08c-ccb9-49d5-b3bc-4672ebfe1b34",
   "metadata": {},
   "outputs": [
    {
     "data": {
      "text/plain": [
       "1"
      ]
     },
     "execution_count": 103,
     "metadata": {},
     "output_type": "execute_result"
    }
   ],
   "source": [
    "t.count(3)"
   ]
  },
  {
   "cell_type": "code",
   "execution_count": 104,
   "id": "08ffa2df-516d-462e-8bbb-67b895b7eeff",
   "metadata": {},
   "outputs": [
    {
     "data": {
      "text/plain": [
       "1"
      ]
     },
     "execution_count": 104,
     "metadata": {},
     "output_type": "execute_result"
    }
   ],
   "source": [
    "t.count(5)"
   ]
  },
  {
   "cell_type": "code",
   "execution_count": 105,
   "id": "fd2ef2c1-5e67-476e-8833-73ac9fd5a8bc",
   "metadata": {},
   "outputs": [
    {
     "data": {
      "text/plain": [
       "4"
      ]
     },
     "execution_count": 105,
     "metadata": {},
     "output_type": "execute_result"
    }
   ],
   "source": [
    "t.index(s)"
   ]
  },
  {
   "cell_type": "markdown",
   "id": "2dc4d3f8-f568-48fb-ad4c-c4ae07fc39ca",
   "metadata": {},
   "source": [
    "# Set"
   ]
  },
  {
   "cell_type": "markdown",
   "id": "34d8dbd6-295f-4111-8103-315d020fd718",
   "metadata": {},
   "source": [
    "set are another type of itterrable data type like list and tuples, the major diffrence of set are:\n",
    "\n",
    "   1 - They are unordered (i.e we cant used indexing anf slicing operations here)\n",
    "   \n",
    "   2 - They don't store duplicate values.\n",
    "   "
   ]
  },
  {
   "cell_type": "code",
   "execution_count": 112,
   "id": "2b448404-55f0-4aab-9378-0abf9728b697",
   "metadata": {},
   "outputs": [],
   "source": [
    "s1 = {} # Empty curley braces is always being used to denote empty dict."
   ]
  },
  {
   "cell_type": "code",
   "execution_count": 113,
   "id": "56ce4df8-2b10-41a1-a647-6321e8882022",
   "metadata": {},
   "outputs": [
    {
     "data": {
      "text/plain": [
       "dict"
      ]
     },
     "execution_count": 113,
     "metadata": {},
     "output_type": "execute_result"
    }
   ],
   "source": [
    "type(s1)"
   ]
  },
  {
   "cell_type": "code",
   "execution_count": 114,
   "id": "0e8f61d2-5e6c-4678-87dc-8b50c52bc230",
   "metadata": {},
   "outputs": [],
   "source": [
    "s2 = {2,3,4,5,6}"
   ]
  },
  {
   "cell_type": "code",
   "execution_count": 115,
   "id": "cb1212ea-3e81-4eed-9c31-70dcfb23c667",
   "metadata": {},
   "outputs": [
    {
     "data": {
      "text/plain": [
       "set"
      ]
     },
     "execution_count": 115,
     "metadata": {},
     "output_type": "execute_result"
    }
   ],
   "source": [
    "type(s2)"
   ]
  },
  {
   "cell_type": "code",
   "execution_count": 117,
   "id": "a9687748-02db-4f4a-a796-06f67b25044b",
   "metadata": {},
   "outputs": [],
   "source": [
    "s3 = {324 , 456 , 456 , 'sudh' , 45+45j , 34.456 , (3,4,5) }"
   ]
  },
  {
   "cell_type": "code",
   "execution_count": 118,
   "id": "20b9da5d-0b7e-497e-9a36-3142392fdb62",
   "metadata": {},
   "outputs": [
    {
     "data": {
      "text/plain": [
       "{(3, 4, 5), (45+45j), 324, 34.456, 456, 'sudh'}"
      ]
     },
     "execution_count": 118,
     "metadata": {},
     "output_type": "execute_result"
    }
   ],
   "source": [
    "s3"
   ]
  },
  {
   "cell_type": "code",
   "execution_count": 119,
   "id": "98a78d72-7205-408c-81bb-2199eb6bb4b0",
   "metadata": {},
   "outputs": [],
   "source": [
    "s4 = {2,3,4,2,3,2,4,2,3,2,3,4,5,4,3,3,3,4,5,45,4,5}\n"
   ]
  },
  {
   "cell_type": "code",
   "execution_count": 120,
   "id": "e623b508-fe12-4b04-b74b-dde96d4b7707",
   "metadata": {},
   "outputs": [
    {
     "data": {
      "text/plain": [
       "{2, 3, 4, 5, 45}"
      ]
     },
     "execution_count": 120,
     "metadata": {},
     "output_type": "execute_result"
    }
   ],
   "source": [
    "s4"
   ]
  },
  {
   "cell_type": "code",
   "execution_count": 121,
   "id": "9e53539d-1be1-4ce2-87bc-eaa8e7cc50de",
   "metadata": {},
   "outputs": [],
   "source": [
    "s5 = {234,45,23,12,567,45,2,789,234,'abc',456,342,23}"
   ]
  },
  {
   "cell_type": "code",
   "execution_count": 122,
   "id": "7e2621fd-c5ef-45ee-9d59-b7c117f9a2ac",
   "metadata": {},
   "outputs": [
    {
     "data": {
      "text/plain": [
       "{12, 2, 23, 234, 342, 45, 456, 567, 789, 'abc'}"
      ]
     },
     "execution_count": 122,
     "metadata": {},
     "output_type": "execute_result"
    }
   ],
   "source": [
    "s5"
   ]
  },
  {
   "cell_type": "code",
   "execution_count": 123,
   "id": "2316d265-ed15-4e70-8913-3393471831a8",
   "metadata": {},
   "outputs": [
    {
     "ename": "TypeError",
     "evalue": "'set' object is not subscriptable",
     "output_type": "error",
     "traceback": [
      "\u001b[0;31m---------------------------------------------------------------------------\u001b[0m",
      "\u001b[0;31mTypeError\u001b[0m                                 Traceback (most recent call last)",
      "Cell \u001b[0;32mIn[123], line 1\u001b[0m\n\u001b[0;32m----> 1\u001b[0m \u001b[43ms5\u001b[49m\u001b[43m[\u001b[49m\u001b[38;5;241;43m0\u001b[39;49m\u001b[43m]\u001b[49m\n",
      "\u001b[0;31mTypeError\u001b[0m: 'set' object is not subscriptable"
     ]
    }
   ],
   "source": [
    "s5[0]"
   ]
  },
  {
   "cell_type": "code",
   "execution_count": 124,
   "id": "cbb6480c-8256-4af1-9804-7154718ab069",
   "metadata": {},
   "outputs": [
    {
     "ename": "TypeError",
     "evalue": "'set' object is not subscriptable",
     "output_type": "error",
     "traceback": [
      "\u001b[0;31m---------------------------------------------------------------------------\u001b[0m",
      "\u001b[0;31mTypeError\u001b[0m                                 Traceback (most recent call last)",
      "Cell \u001b[0;32mIn[124], line 1\u001b[0m\n\u001b[0;32m----> 1\u001b[0m \u001b[43ms5\u001b[49m\u001b[43m[\u001b[49m\u001b[43m:\u001b[49m\u001b[43m:\u001b[49m\u001b[38;5;241;43m-\u001b[39;49m\u001b[38;5;241;43m1\u001b[39;49m\u001b[43m]\u001b[49m\n",
      "\u001b[0;31mTypeError\u001b[0m: 'set' object is not subscriptable"
     ]
    }
   ],
   "source": [
    "s5[::-1]"
   ]
  },
  {
   "cell_type": "code",
   "execution_count": 127,
   "id": "14780a49-a9fc-4895-aa84-d5a760417ae2",
   "metadata": {},
   "outputs": [],
   "source": [
    "s5.add(4) # This built-in method of set will add the element given in argument into set \n",
    "# If the set is already present in the set then it will nullify the operation since \n",
    "# et don't sopprt duplicacy "
   ]
  },
  {
   "cell_type": "code",
   "execution_count": 128,
   "id": "799b353d-9c5d-45cb-b7f4-06c5a6b56972",
   "metadata": {},
   "outputs": [
    {
     "data": {
      "text/plain": [
       "{12, 2, 23, 234, 342, 4, 45, 456, 567, 789, 'abc'}"
      ]
     },
     "execution_count": 128,
     "metadata": {},
     "output_type": "execute_result"
    }
   ],
   "source": [
    "s5"
   ]
  },
  {
   "cell_type": "code",
   "execution_count": 129,
   "id": "3c62b213-dac5-40f4-990f-d8dcdd4d5bac",
   "metadata": {},
   "outputs": [],
   "source": [
    "s5.remove(45)"
   ]
  },
  {
   "cell_type": "code",
   "execution_count": 130,
   "id": "b285377e-c09d-4317-80e3-7b1c082844bb",
   "metadata": {},
   "outputs": [
    {
     "data": {
      "text/plain": [
       "{12, 2, 23, 234, 342, 4, 456, 567, 789, 'abc'}"
      ]
     },
     "execution_count": 130,
     "metadata": {},
     "output_type": "execute_result"
    }
   ],
   "source": [
    "s5"
   ]
  },
  {
   "cell_type": "code",
   "execution_count": 131,
   "id": "9c9c7ab3-22b9-4b57-87d2-c1b7e44812a8",
   "metadata": {},
   "outputs": [],
   "source": [
    "s5.remove(2)"
   ]
  },
  {
   "cell_type": "code",
   "execution_count": 132,
   "id": "a9e0299e-4760-48e8-bb0b-bb8b18e2a72e",
   "metadata": {},
   "outputs": [
    {
     "data": {
      "text/plain": [
       "{12, 23, 234, 342, 4, 456, 567, 789, 'abc'}"
      ]
     },
     "execution_count": 132,
     "metadata": {},
     "output_type": "execute_result"
    }
   ],
   "source": [
    "s5"
   ]
  },
  {
   "cell_type": "code",
   "execution_count": null,
   "id": "813d76e5-51d7-483a-99ba-d2665b1439e8",
   "metadata": {},
   "outputs": [],
   "source": []
  }
 ],
 "metadata": {
  "kernelspec": {
   "display_name": "Python 3 (ipykernel)",
   "language": "python",
   "name": "python3"
  },
  "language_info": {
   "codemirror_mode": {
    "name": "ipython",
    "version": 3
   },
   "file_extension": ".py",
   "mimetype": "text/x-python",
   "name": "python",
   "nbconvert_exporter": "python",
   "pygments_lexer": "ipython3",
   "version": "3.10.8"
  }
 },
 "nbformat": 4,
 "nbformat_minor": 5
}
