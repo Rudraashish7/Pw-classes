{
 "cells": [
  {
   "cell_type": "markdown",
   "id": "6f1d66db-07b9-4698-8229-9fadcc9d9af4",
   "metadata": {},
   "source": [
    "# Basic Calculation in python"
   ]
  },
  {
   "cell_type": "code",
   "execution_count": 1,
   "id": "7bb00300-e94c-4c63-a298-f3435f954054",
   "metadata": {},
   "outputs": [
    {
     "data": {
      "text/plain": [
       "2"
      ]
     },
     "execution_count": 1,
     "metadata": {},
     "output_type": "execute_result"
    }
   ],
   "source": [
    "1+1 # Addition"
   ]
  },
  {
   "cell_type": "code",
   "execution_count": 2,
   "id": "ed166da4-8b0f-416e-9f9e-53b97b8592f0",
   "metadata": {},
   "outputs": [
    {
     "data": {
      "text/plain": [
       "25"
      ]
     },
     "execution_count": 2,
     "metadata": {},
     "output_type": "execute_result"
    }
   ],
   "source": [
    "5*5 # Multiplication"
   ]
  },
  {
   "cell_type": "markdown",
   "id": "bfec7bba-3ae9-46b2-af99-f33f528355af",
   "metadata": {},
   "source": [
    "### Process of creting a variable "
   ]
  },
  {
   "cell_type": "code",
   "execution_count": 3,
   "id": "e69dff06-619a-4e08-a719-d1564dba1565",
   "metadata": {},
   "outputs": [],
   "source": [
    "a = 10 "
   ]
  },
  {
   "cell_type": "code",
   "execution_count": 4,
   "id": "61d7dcd6-3cd9-4d2c-bb86-891503b8d38a",
   "metadata": {},
   "outputs": [
    {
     "data": {
      "text/plain": [
       "10"
      ]
     },
     "execution_count": 4,
     "metadata": {},
     "output_type": "execute_result"
    }
   ],
   "source": [
    "a"
   ]
  },
  {
   "cell_type": "code",
   "execution_count": 5,
   "id": "359ab0d7-bc26-4e07-b34d-d11f026453e9",
   "metadata": {},
   "outputs": [
    {
     "data": {
      "text/plain": [
       "10"
      ]
     },
     "execution_count": 5,
     "metadata": {},
     "output_type": "execute_result"
    }
   ],
   "source": [
    "a"
   ]
  },
  {
   "cell_type": "code",
   "execution_count": 6,
   "id": "63427ae9-9a9e-4f88-afe8-b14432327983",
   "metadata": {},
   "outputs": [],
   "source": [
    "sudh = 20"
   ]
  },
  {
   "cell_type": "code",
   "execution_count": 7,
   "id": "9015b0d6-b37f-4e1d-a4d5-013f022803ec",
   "metadata": {},
   "outputs": [
    {
     "data": {
      "text/plain": [
       "20"
      ]
     },
     "execution_count": 7,
     "metadata": {},
     "output_type": "execute_result"
    }
   ],
   "source": [
    "sudh"
   ]
  },
  {
   "cell_type": "code",
   "execution_count": 8,
   "id": "ee235e48-f970-4157-9380-bc3a194eea9d",
   "metadata": {},
   "outputs": [
    {
     "data": {
      "text/plain": [
       "30"
      ]
     },
     "execution_count": 8,
     "metadata": {},
     "output_type": "execute_result"
    }
   ],
   "source": [
    "a+sudh"
   ]
  },
  {
   "cell_type": "code",
   "execution_count": 9,
   "id": "a19c80a2-65ca-4549-a7da-be398cab1ba4",
   "metadata": {},
   "outputs": [
    {
     "data": {
      "text/plain": [
       "int"
      ]
     },
     "execution_count": 9,
     "metadata": {},
     "output_type": "execute_result"
    }
   ],
   "source": [
    "type(a) # Type function is used to find the data type of a variable "
   ]
  },
  {
   "cell_type": "code",
   "execution_count": 10,
   "id": "c77d485c-9966-48f1-a9dc-60e280fb7972",
   "metadata": {},
   "outputs": [
    {
     "data": {
      "text/plain": [
       "int"
      ]
     },
     "execution_count": 10,
     "metadata": {},
     "output_type": "execute_result"
    }
   ],
   "source": [
    "type(sudh)"
   ]
  },
  {
   "cell_type": "code",
   "execution_count": 11,
   "id": "ae94bb9d-1976-4b95-b73d-a8f720d2a94b",
   "metadata": {},
   "outputs": [
    {
     "ename": "SyntaxError",
     "evalue": "incomplete input (3737724624.py, line 1)",
     "output_type": "error",
     "traceback": [
      "\u001b[0;36m  Cell \u001b[0;32mIn[11], line 1\u001b[0;36m\u001b[0m\n\u001b[0;31m    type(sudh\u001b[0m\n\u001b[0m             ^\u001b[0m\n\u001b[0;31mSyntaxError\u001b[0m\u001b[0;31m:\u001b[0m incomplete input\n"
     ]
    }
   ],
   "source": [
    "type(sudh"
   ]
  },
  {
   "cell_type": "code",
   "execution_count": 12,
   "id": "bff50b8c-d8c3-4a13-a4b7-66d67713e2ac",
   "metadata": {},
   "outputs": [],
   "source": [
    "b = 2.09"
   ]
  },
  {
   "cell_type": "code",
   "execution_count": 13,
   "id": "af87aac0-3cb5-4b79-aaa7-ee8b39724d7f",
   "metadata": {},
   "outputs": [
    {
     "data": {
      "text/plain": [
       "float"
      ]
     },
     "execution_count": 13,
     "metadata": {},
     "output_type": "execute_result"
    }
   ],
   "source": [
    "type(b)"
   ]
  },
  {
   "cell_type": "code",
   "execution_count": 14,
   "id": "44f0cacf-6104-4c5f-b0dc-b334ed07cde6",
   "metadata": {},
   "outputs": [],
   "source": [
    "c = 45.698669"
   ]
  },
  {
   "cell_type": "code",
   "execution_count": 15,
   "id": "68a7ea91-5548-4d53-8fe3-feafe10ed196",
   "metadata": {},
   "outputs": [
    {
     "data": {
      "text/plain": [
       "float"
      ]
     },
     "execution_count": 15,
     "metadata": {},
     "output_type": "execute_result"
    }
   ],
   "source": [
    "type(c)"
   ]
  },
  {
   "cell_type": "code",
   "execution_count": 16,
   "id": "f7886a6a-4319-4849-9dc3-e35f66276c3d",
   "metadata": {},
   "outputs": [],
   "source": [
    "d = \"sudhanshu\""
   ]
  },
  {
   "cell_type": "code",
   "execution_count": 17,
   "id": "2921ac34-86be-4a58-8b52-344c74eda2cf",
   "metadata": {},
   "outputs": [
    {
     "data": {
      "text/plain": [
       "'sudhanshu'"
      ]
     },
     "execution_count": 17,
     "metadata": {},
     "output_type": "execute_result"
    }
   ],
   "source": [
    "d"
   ]
  },
  {
   "cell_type": "code",
   "execution_count": 18,
   "id": "00d4cba6-355c-46a2-bf5a-a59704945769",
   "metadata": {},
   "outputs": [
    {
     "data": {
      "text/plain": [
       "str"
      ]
     },
     "execution_count": 18,
     "metadata": {},
     "output_type": "execute_result"
    }
   ],
   "source": [
    "type(d)"
   ]
  },
  {
   "cell_type": "code",
   "execution_count": 19,
   "id": "b9bcaeef-25fa-41d9-93c9-e0194a93d315",
   "metadata": {},
   "outputs": [],
   "source": [
    "e = 'this is the first tech class'"
   ]
  },
  {
   "cell_type": "code",
   "execution_count": 20,
   "id": "7a5594d6-031f-40ad-9265-b90200c91df1",
   "metadata": {},
   "outputs": [
    {
     "data": {
      "text/plain": [
       "'this is the first tech class'"
      ]
     },
     "execution_count": 20,
     "metadata": {},
     "output_type": "execute_result"
    }
   ],
   "source": [
    "e"
   ]
  },
  {
   "cell_type": "code",
   "execution_count": 21,
   "id": "5b6d52d4-5a55-4eec-89c6-fb316d39afc1",
   "metadata": {},
   "outputs": [
    {
     "data": {
      "text/plain": [
       "str"
      ]
     },
     "execution_count": 21,
     "metadata": {},
     "output_type": "execute_result"
    }
   ],
   "source": [
    "type(e)"
   ]
  },
  {
   "cell_type": "code",
   "execution_count": 22,
   "id": "338d2f85-760f-4e7b-9e75-5b4f96ed66ea",
   "metadata": {},
   "outputs": [],
   "source": [
    "n = True"
   ]
  },
  {
   "cell_type": "code",
   "execution_count": 23,
   "id": "7777148f-b05c-4016-a741-0419e7ac71db",
   "metadata": {},
   "outputs": [
    {
     "data": {
      "text/plain": [
       "bool"
      ]
     },
     "execution_count": 23,
     "metadata": {},
     "output_type": "execute_result"
    }
   ],
   "source": [
    "type(n)"
   ]
  },
  {
   "cell_type": "code",
   "execution_count": 24,
   "id": "a8408f87-71aa-4678-a191-c7743df6fd97",
   "metadata": {},
   "outputs": [],
   "source": [
    "m = False"
   ]
  },
  {
   "cell_type": "code",
   "execution_count": 25,
   "id": "1399ccc0-4b7c-4ab0-a82c-6be1807cf54b",
   "metadata": {},
   "outputs": [
    {
     "data": {
      "text/plain": [
       "bool"
      ]
     },
     "execution_count": 25,
     "metadata": {},
     "output_type": "execute_result"
    }
   ],
   "source": [
    "type(m)"
   ]
  },
  {
   "cell_type": "code",
   "execution_count": 26,
   "id": "c5efcd37-a71d-45c8-8cb1-4ebf958e2a60",
   "metadata": {},
   "outputs": [
    {
     "data": {
      "text/plain": [
       "1"
      ]
     },
     "execution_count": 26,
     "metadata": {},
     "output_type": "execute_result"
    }
   ],
   "source": [
    "n+m # using addition operation on variable "
   ]
  },
  {
   "cell_type": "code",
   "execution_count": 27,
   "id": "11ed8c2a-a47c-4297-bec0-e1963184c70e",
   "metadata": {},
   "outputs": [
    {
     "data": {
      "text/plain": [
       "1"
      ]
     },
     "execution_count": 27,
     "metadata": {},
     "output_type": "execute_result"
    }
   ],
   "source": [
    "True * True"
   ]
  },
  {
   "cell_type": "code",
   "execution_count": 28,
   "id": "4126d320-d2ce-4e73-aaac-c9552a18fef7",
   "metadata": {},
   "outputs": [
    {
     "data": {
      "text/plain": [
       "0"
      ]
     },
     "execution_count": 28,
     "metadata": {},
     "output_type": "execute_result"
    }
   ],
   "source": [
    "True * False "
   ]
  },
  {
   "cell_type": "code",
   "execution_count": 29,
   "id": "0d28bcc8-13a4-42d0-b694-2a6cd45c8fe5",
   "metadata": {},
   "outputs": [
    {
     "ename": "ZeroDivisionError",
     "evalue": "division by zero",
     "output_type": "error",
     "traceback": [
      "\u001b[0;31m---------------------------------------------------------------------------\u001b[0m",
      "\u001b[0;31mZeroDivisionError\u001b[0m                         Traceback (most recent call last)",
      "Cell \u001b[0;32mIn[29], line 1\u001b[0m\n\u001b[0;32m----> 1\u001b[0m \u001b[38;5;28;43;01mTrue\u001b[39;49;00m\u001b[38;5;241;43m/\u001b[39;49m\u001b[38;5;28;43;01mFalse\u001b[39;49;00m\n",
      "\u001b[0;31mZeroDivisionError\u001b[0m: division by zero"
     ]
    }
   ],
   "source": [
    "True/False"
   ]
  },
  {
   "cell_type": "code",
   "execution_count": null,
   "id": "5e8bfd57-17c3-4681-81a7-565bb1e18d22",
   "metadata": {},
   "outputs": [],
   "source": [
    "v = 5 + 8j  # to denote comlex number in python we have to use \"j\" insted of \"i\""
   ]
  },
  {
   "cell_type": "code",
   "execution_count": 30,
   "id": "a4b2c67a-513a-456f-9762-314438b12159",
   "metadata": {},
   "outputs": [
    {
     "ename": "NameError",
     "evalue": "name 'v' is not defined",
     "output_type": "error",
     "traceback": [
      "\u001b[0;31m---------------------------------------------------------------------------\u001b[0m",
      "\u001b[0;31mNameError\u001b[0m                                 Traceback (most recent call last)",
      "Cell \u001b[0;32mIn[30], line 1\u001b[0m\n\u001b[0;32m----> 1\u001b[0m \u001b[38;5;28mtype\u001b[39m(\u001b[43mv\u001b[49m)\n",
      "\u001b[0;31mNameError\u001b[0m: name 'v' is not defined"
     ]
    }
   ],
   "source": [
    "type(v)"
   ]
  },
  {
   "cell_type": "code",
   "execution_count": 31,
   "id": "4bd0fbfc-56cd-4f36-a91c-c99661f0a1ce",
   "metadata": {},
   "outputs": [
    {
     "ename": "NameError",
     "evalue": "name 'v' is not defined",
     "output_type": "error",
     "traceback": [
      "\u001b[0;31m---------------------------------------------------------------------------\u001b[0m",
      "\u001b[0;31mNameError\u001b[0m                                 Traceback (most recent call last)",
      "Cell \u001b[0;32mIn[31], line 1\u001b[0m\n\u001b[0;32m----> 1\u001b[0m \u001b[43mv\u001b[49m\u001b[38;5;241m.\u001b[39mreal \u001b[38;5;66;03m# Finding out the real component in an imaginary number \u001b[39;00m\n",
      "\u001b[0;31mNameError\u001b[0m: name 'v' is not defined"
     ]
    }
   ],
   "source": [
    "v.real # Finding out the real component in an imaginary number "
   ]
  },
  {
   "cell_type": "markdown",
   "id": "c4bfd3de-f50f-44ab-aff7-4d36e3159932",
   "metadata": {},
   "source": [
    "If we declare two value to a single variable then the value which was stored recently will be displayed when we call that variable "
   ]
  },
  {
   "cell_type": "code",
   "execution_count": 32,
   "id": "c2755316-b3bd-40fb-8df5-e8358d105865",
   "metadata": {},
   "outputs": [
    {
     "ename": "NameError",
     "evalue": "name 'v' is not defined",
     "output_type": "error",
     "traceback": [
      "\u001b[0;31m---------------------------------------------------------------------------\u001b[0m",
      "\u001b[0;31mNameError\u001b[0m                                 Traceback (most recent call last)",
      "Cell \u001b[0;32mIn[32], line 1\u001b[0m\n\u001b[0;32m----> 1\u001b[0m \u001b[38;5;28mprint\u001b[39m(\u001b[43mv\u001b[49m) \u001b[38;5;66;03m# It prints vaule of the variable in the console\u001b[39;00m\n",
      "\u001b[0;31mNameError\u001b[0m: name 'v' is not defined"
     ]
    }
   ],
   "source": [
    "print(v) # It prints vaule of the variable in the console"
   ]
  },
  {
   "cell_type": "code",
   "execution_count": 33,
   "id": "8f38050b-6fd7-4e5b-bbc4-ee1a7afad15b",
   "metadata": {},
   "outputs": [
    {
     "name": "stdout",
     "output_type": "stream",
     "text": [
      "My name is Rudraashish\n"
     ]
    }
   ],
   "source": [
    "print('My name is Rudraashish') # it can aslo print the value given in it"
   ]
  },
  {
   "cell_type": "code",
   "execution_count": 34,
   "id": "1900f276-fdce-45bc-9d6b-4a4d2448f0ad",
   "metadata": {},
   "outputs": [
    {
     "name": "stdout",
     "output_type": "stream",
     "text": [
      "10\n"
     ]
    }
   ],
   "source": [
    "print(a)\n"
   ]
  },
  {
   "cell_type": "code",
   "execution_count": 35,
   "id": "9f7ffbbb-62db-4046-af66-e50511228929",
   "metadata": {},
   "outputs": [
    {
     "name": "stdout",
     "output_type": "stream",
     "text": [
      "20\n"
     ]
    }
   ],
   "source": [
    "print(sudh)"
   ]
  },
  {
   "cell_type": "markdown",
   "id": "3b440a66-cb4e-46b2-a65e-56f878748873",
   "metadata": {},
   "source": [
    "## Indiexing in string"
   ]
  },
  {
   "cell_type": "code",
   "execution_count": 36,
   "id": "c69f56bd-ae2b-420c-be0e-f1d4ebf8ef7f",
   "metadata": {},
   "outputs": [],
   "source": [
    "s = 'pwskills'\n"
   ]
  },
  {
   "cell_type": "code",
   "execution_count": 37,
   "id": "7d22a604-7e8d-41bc-bdb4-521f0bcfe7ec",
   "metadata": {},
   "outputs": [
    {
     "data": {
      "text/plain": [
       "str"
      ]
     },
     "execution_count": 37,
     "metadata": {},
     "output_type": "execute_result"
    }
   ],
   "source": [
    "type(s)"
   ]
  },
  {
   "cell_type": "markdown",
   "id": "84d25b8d-8cd6-43de-9fa6-0816d63ecaf4",
   "metadata": {},
   "source": [
    "### Forward Indexing"
   ]
  },
  {
   "cell_type": "code",
   "execution_count": 38,
   "id": "307bb72f-9667-4791-ab35-456223bf6826",
   "metadata": {},
   "outputs": [
    {
     "data": {
      "text/plain": [
       "'p'"
      ]
     },
     "execution_count": 38,
     "metadata": {},
     "output_type": "execute_result"
    }
   ],
   "source": [
    "s[0] # Since strings are collection of charaters \n",
    "# Therefore we can perform indexing on string\n",
    "# index position is the postion of a specific character in a string\n",
    "# he we are asking to display the character present on the 0th index in the string \n",
    "# remember indexing starts from 0"
   ]
  },
  {
   "cell_type": "code",
   "execution_count": 39,
   "id": "3b042785-3a8b-46f6-9fc1-c2f04281d6dd",
   "metadata": {},
   "outputs": [
    {
     "data": {
      "text/plain": [
       "'s'"
      ]
     },
     "execution_count": 39,
     "metadata": {},
     "output_type": "execute_result"
    }
   ],
   "source": [
    "s[2] # finding the character present at the 2nd index position"
   ]
  },
  {
   "cell_type": "code",
   "execution_count": 40,
   "id": "f1bbae29-8c10-4c96-baca-c216e34de0eb",
   "metadata": {},
   "outputs": [
    {
     "data": {
      "text/plain": [
       "'k'"
      ]
     },
     "execution_count": 40,
     "metadata": {},
     "output_type": "execute_result"
    }
   ],
   "source": [
    "s[3] # finding the character present at the 3rd index position"
   ]
  },
  {
   "cell_type": "markdown",
   "id": "7bdbcdc9-e83c-494a-b95d-da0f50f03a49",
   "metadata": {},
   "source": [
    "### Backward Indexing"
   ]
  },
  {
   "cell_type": "code",
   "execution_count": 41,
   "id": "b233191e-60a3-454c-9f6e-cdf71d555d7c",
   "metadata": {},
   "outputs": [
    {
     "data": {
      "text/plain": [
       "'s'"
      ]
     },
     "execution_count": 41,
     "metadata": {},
     "output_type": "execute_result"
    }
   ],
   "source": [
    "s[-1] # Finding char present at -1 index position\n"
   ]
  },
  {
   "cell_type": "code",
   "execution_count": 42,
   "id": "a8385058-e40c-4424-8af2-8cd9156a918b",
   "metadata": {},
   "outputs": [
    {
     "data": {
      "text/plain": [
       "'p'"
      ]
     },
     "execution_count": 42,
     "metadata": {},
     "output_type": "execute_result"
    }
   ],
   "source": [
    "s[-8] # finding the character present at -8 index position"
   ]
  },
  {
   "cell_type": "markdown",
   "id": "0e3d2de8-a1fa-47d4-95fa-6c72bbfab478",
   "metadata": {},
   "source": [
    "## Slicing is string"
   ]
  },
  {
   "cell_type": "code",
   "execution_count": 43,
   "id": "0ba52457-5722-4f1e-a469-4cb247265cd0",
   "metadata": {},
   "outputs": [
    {
     "data": {
      "text/plain": [
       "'pwskills'"
      ]
     },
     "execution_count": 43,
     "metadata": {},
     "output_type": "execute_result"
    }
   ],
   "source": [
    "s"
   ]
  },
  {
   "cell_type": "code",
   "execution_count": 44,
   "id": "ea0e9ef2-852a-488a-a89d-cf9ed1658d98",
   "metadata": {},
   "outputs": [
    {
     "data": {
      "text/plain": [
       "'pws'"
      ]
     },
     "execution_count": 44,
     "metadata": {},
     "output_type": "execute_result"
    }
   ],
   "source": [
    "s[0:3] # Displaying the sliced sub-string \n",
    "# Starting from 0th index pos till 3rd index position\n",
    "# slicing dont include ending element"
   ]
  },
  {
   "cell_type": "code",
   "execution_count": 45,
   "id": "0d419e68-c40a-4d71-a8f0-15b481181e75",
   "metadata": {},
   "outputs": [
    {
     "data": {
      "text/plain": [
       "'pw'"
      ]
     },
     "execution_count": 45,
     "metadata": {},
     "output_type": "execute_result"
    }
   ],
   "source": [
    "s[:2] # Displaying the sliced sub-string \n",
    "# Starting from 0th index pos till 2nd index position"
   ]
  },
  {
   "cell_type": "code",
   "execution_count": 46,
   "id": "140c6024-6bf4-4dc9-b0fb-f5b81fd46cbe",
   "metadata": {},
   "outputs": [
    {
     "data": {
      "text/plain": [
       "'pwsk'"
      ]
     },
     "execution_count": 46,
     "metadata": {},
     "output_type": "execute_result"
    }
   ],
   "source": [
    "s[:4] # Displaying the sliced sub-string \n",
    "# Starting from 0th index pos till 4th index position"
   ]
  },
  {
   "cell_type": "code",
   "execution_count": 47,
   "id": "b66ac373-4bac-4314-bf21-cb75353fc54a",
   "metadata": {},
   "outputs": [
    {
     "data": {
      "text/plain": [
       "'psil'"
      ]
     },
     "execution_count": 47,
     "metadata": {},
     "output_type": "execute_result"
    }
   ],
   "source": [
    "s[::2] # Displaying the sliced sub-string \n",
    "# Starting from 0th index pos till last index position\n",
    "# jumping the alternate indexing position \n",
    "# we can achive it by setting the step size as 2\n",
    "# by default the step size is set as 1 "
   ]
  },
  {
   "cell_type": "code",
   "execution_count": 48,
   "id": "e53a4066-f2f2-4de9-97f4-837c3f61e20e",
   "metadata": {},
   "outputs": [
    {
     "ename": "ValueError",
     "evalue": "slice step cannot be zero",
     "output_type": "error",
     "traceback": [
      "\u001b[0;31m---------------------------------------------------------------------------\u001b[0m",
      "\u001b[0;31mValueError\u001b[0m                                Traceback (most recent call last)",
      "Cell \u001b[0;32mIn[48], line 1\u001b[0m\n\u001b[0;32m----> 1\u001b[0m \u001b[43ms\u001b[49m\u001b[43m[\u001b[49m\u001b[38;5;241;43m2\u001b[39;49m\u001b[43m:\u001b[49m\u001b[43m:\u001b[49m\u001b[38;5;241;43m0\u001b[39;49m\u001b[43m]\u001b[49m \u001b[38;5;66;03m# We cannot put step size as 0\u001b[39;00m\n",
      "\u001b[0;31mValueError\u001b[0m: slice step cannot be zero"
     ]
    }
   ],
   "source": [
    "s[2::0] # We cannot put step size as 0"
   ]
  },
  {
   "cell_type": "code",
   "execution_count": 49,
   "id": "40496a80-709f-4032-9a11-3fb1188797b2",
   "metadata": {},
   "outputs": [
    {
     "data": {
      "text/plain": [
       "'sllikswp'"
      ]
     },
     "execution_count": 49,
     "metadata": {},
     "output_type": "execute_result"
    }
   ],
   "source": [
    "s[::-1] # printing string in reverse dirction  \n",
    "\n",
    "# For that we will use the negative step size"
   ]
  },
  {
   "cell_type": "code",
   "execution_count": 50,
   "id": "ee19754b-aca3-4098-997e-a33197c73106",
   "metadata": {},
   "outputs": [
    {
     "data": {
      "text/plain": [
       "''"
      ]
     },
     "execution_count": 50,
     "metadata": {},
     "output_type": "execute_result"
    }
   ],
   "source": [
    "s[2:7:-1] # This is because the staring point indexdex is lesser than ending point index\n",
    "# in negative indexing SI > EI"
   ]
  },
  {
   "cell_type": "code",
   "execution_count": 51,
   "id": "0d771df6-c4be-409f-9022-8a5b75065160",
   "metadata": {},
   "outputs": [
    {
     "data": {
      "text/plain": [
       "''"
      ]
     },
     "execution_count": 51,
     "metadata": {},
     "output_type": "execute_result"
    }
   ],
   "source": [
    "s[8:0] # This is because the staring point index is more than ending point index\n",
    "# in positive indexing this SI < EI "
   ]
  },
  {
   "cell_type": "code",
   "execution_count": 52,
   "id": "a9977dcf-ff75-4693-a7b3-576ea79418df",
   "metadata": {},
   "outputs": [
    {
     "data": {
      "text/plain": [
       "'slliksw'"
      ]
     },
     "execution_count": 52,
     "metadata": {},
     "output_type": "execute_result"
    }
   ],
   "source": [
    "s[8:0:-1] # Displaying the sliced sub-string \n",
    "# Starting from 8th index pos till 0th index position\n",
    "# inreverse direcion"
   ]
  },
  {
   "cell_type": "code",
   "execution_count": 53,
   "id": "5a88205d-757c-40b6-9ee7-97316848b20f",
   "metadata": {},
   "outputs": [
    {
     "data": {
      "text/plain": [
       "'lliksw'"
      ]
     },
     "execution_count": 53,
     "metadata": {},
     "output_type": "execute_result"
    }
   ],
   "source": [
    "s[ -2 : -8 : -1] # Displaying the sliced sub-string \n",
    "# Starting from -2nd index pos till -8th index position\n",
    "# In reverse direction"
   ]
  },
  {
   "cell_type": "code",
   "execution_count": 54,
   "id": "ba324d61-b811-476c-8a07-c8e5aa2316dc",
   "metadata": {},
   "outputs": [
    {
     "data": {
      "text/plain": [
       "'llikswp'"
      ]
     },
     "execution_count": 54,
     "metadata": {},
     "output_type": "execute_result"
    }
   ],
   "source": [
    "s [-2 : : -1]"
   ]
  },
  {
   "cell_type": "code",
   "execution_count": 55,
   "id": "a897c6be-890a-4cdc-bbf5-a68bff18c3c8",
   "metadata": {},
   "outputs": [
    {
     "data": {
      "text/plain": [
       "'pwskills'"
      ]
     },
     "execution_count": 55,
     "metadata": {},
     "output_type": "execute_result"
    }
   ],
   "source": [
    "s[::1]"
   ]
  },
  {
   "cell_type": "code",
   "execution_count": 56,
   "id": "9b166f5b-cf2a-4540-bdf1-30326af646b3",
   "metadata": {},
   "outputs": [
    {
     "data": {
      "text/plain": [
       "''"
      ]
     },
     "execution_count": 56,
     "metadata": {},
     "output_type": "execute_result"
    }
   ],
   "source": [
    "s[:-90:]"
   ]
  },
  {
   "cell_type": "code",
   "execution_count": 57,
   "id": "f32c158c-76aa-4cb0-948e-a59ec2429e53",
   "metadata": {},
   "outputs": [
    {
     "ename": "IndexError",
     "evalue": "string index out of range",
     "output_type": "error",
     "traceback": [
      "\u001b[0;31m---------------------------------------------------------------------------\u001b[0m",
      "\u001b[0;31mIndexError\u001b[0m                                Traceback (most recent call last)",
      "Cell \u001b[0;32mIn[57], line 1\u001b[0m\n\u001b[0;32m----> 1\u001b[0m \u001b[43ms\u001b[49m\u001b[43m[\u001b[49m\u001b[38;5;241;43m90\u001b[39;49m\u001b[43m]\u001b[49m\n",
      "\u001b[0;31mIndexError\u001b[0m: string index out of range"
     ]
    }
   ],
   "source": [
    "s[90]"
   ]
  },
  {
   "cell_type": "code",
   "execution_count": 58,
   "id": "a9b0ec06-2e1e-4413-9b46-862dcc91b641",
   "metadata": {},
   "outputs": [
    {
     "data": {
      "text/plain": [
       "'sllikswp'"
      ]
     },
     "execution_count": 58,
     "metadata": {},
     "output_type": "execute_result"
    }
   ],
   "source": [
    "s[:-9000:-1]"
   ]
  },
  {
   "cell_type": "markdown",
   "id": "d02cebba-6bba-49be-89f6-f947991bd172",
   "metadata": {},
   "source": [
    "## Inbuilt-Function for string manipulation in python "
   ]
  },
  {
   "cell_type": "code",
   "execution_count": 59,
   "id": "4218020b-fa1b-491f-b1fe-08cfb107f7cc",
   "metadata": {},
   "outputs": [],
   "source": [
    "s1 = 'This is my strings class'"
   ]
  },
  {
   "cell_type": "code",
   "execution_count": 63,
   "id": "68155204-7e24-4265-a007-8291ab0fd873",
   "metadata": {},
   "outputs": [
    {
     "data": {
      "text/plain": [
       "24"
      ]
     },
     "execution_count": 63,
     "metadata": {},
     "output_type": "execute_result"
    }
   ],
   "source": [
    "len(s1) # Len function is used to find the length of the string \n",
    "# it is an in-built function"
   ]
  },
  {
   "cell_type": "code",
   "execution_count": 64,
   "id": "36feeb40-ba4a-4292-956e-01aa98eccd28",
   "metadata": {},
   "outputs": [
    {
     "data": {
      "text/plain": [
       "3"
      ]
     },
     "execution_count": 64,
     "metadata": {},
     "output_type": "execute_result"
    }
   ],
   "source": [
    "s1.find('s') # Find is an in-buit method in python\n",
    "# it is used to find the char postion in the string \n",
    "# if asked char is present at multiple pos. in the string\n",
    "# it will return the pos of first char as output"
   ]
  },
  {
   "cell_type": "code",
   "execution_count": 66,
   "id": "aefdb994-0f49-4a57-b66f-a34b00e6dfca",
   "metadata": {},
   "outputs": [
    {
     "data": {
      "text/plain": [
       "2"
      ]
     },
     "execution_count": 66,
     "metadata": {},
     "output_type": "execute_result"
    }
   ],
   "source": [
    "s1.find(\"i\") # returns the pos of \"i\" in string"
   ]
  },
  {
   "cell_type": "code",
   "execution_count": 67,
   "id": "c95d2db9-7fc8-4b2d-afa1-ae6b88e56166",
   "metadata": {},
   "outputs": [
    {
     "data": {
      "text/plain": [
       "2"
      ]
     },
     "execution_count": 67,
     "metadata": {},
     "output_type": "execute_result"
    }
   ],
   "source": [
    "s1.find('is')  # returns the pos of \"is\" in string"
   ]
  },
  {
   "cell_type": "code",
   "execution_count": 69,
   "id": "75890d88-db37-4173-8b1e-d704bf8320cc",
   "metadata": {},
   "outputs": [
    {
     "data": {
      "text/plain": [
       "-1"
      ]
     },
     "execution_count": 69,
     "metadata": {},
     "output_type": "execute_result"
    }
   ],
   "source": [
    "s1.find('iS')  # returns the pos of \"iS\" in string\n",
    "# since python is case sensitive this means \n",
    "# 'iS' will be treated as diffrent string\n",
    "# Therfore it will return -1 as output\n",
    "# since 'is' is not present in the string"
   ]
  },
  {
   "cell_type": "code",
   "execution_count": 70,
   "id": "5467f025-a44e-41ef-a8d7-dff9aa08f5f9",
   "metadata": {},
   "outputs": [
    {
     "data": {
      "text/plain": [
       "6"
      ]
     },
     "execution_count": 70,
     "metadata": {},
     "output_type": "execute_result"
    }
   ],
   "source": [
    "s1.count('s') # returns the no of time \n",
    "# a char appeared in a string"
   ]
  },
  {
   "cell_type": "code",
   "execution_count": 71,
   "id": "f5f90448-4806-49fb-b20c-d1c011d0ea40",
   "metadata": {},
   "outputs": [
    {
     "data": {
      "text/plain": [
       "1"
      ]
     },
     "execution_count": 71,
     "metadata": {},
     "output_type": "execute_result"
    }
   ],
   "source": [
    "s1.count('st') # returns the number of times \"st\"\n",
    "# present in the string \"s1\""
   ]
  },
  {
   "cell_type": "code",
   "execution_count": 73,
   "id": "5225f6e8-48d2-4d04-a34e-5167c0879599",
   "metadata": {},
   "outputs": [
    {
     "data": {
      "text/plain": [
       "0"
      ]
     },
     "execution_count": 73,
     "metadata": {},
     "output_type": "execute_result"
    }
   ],
   "source": [
    "s1.count('z') # Returns the number of times \"z\"\n",
    "# present in the string\n",
    "# since it is not present in the string\n",
    "# it will return 0 as output"
   ]
  },
  {
   "cell_type": "code",
   "execution_count": 74,
   "id": "d221685f-fe22-409d-83ad-041af0f62e1b",
   "metadata": {},
   "outputs": [
    {
     "data": {
      "text/plain": [
       "'This is my strings class'"
      ]
     },
     "execution_count": 74,
     "metadata": {},
     "output_type": "execute_result"
    }
   ],
   "source": [
    "s1"
   ]
  },
  {
   "cell_type": "code",
   "execution_count": 75,
   "id": "7be2ac1a-aa84-4d17-9fcb-c7ec9cf7dbf2",
   "metadata": {},
   "outputs": [
    {
     "data": {
      "text/plain": [
       "'THIS IS MY STRINGS CLASS'"
      ]
     },
     "execution_count": 75,
     "metadata": {},
     "output_type": "execute_result"
    }
   ],
   "source": [
    "s1.upper()  # Upper inbuil method is used to \n",
    "# conver the string into upeer case "
   ]
  },
  {
   "cell_type": "code",
   "execution_count": 76,
   "id": "ae1a6ca5-288f-43eb-acb8-8c8b6e921873",
   "metadata": {},
   "outputs": [],
   "source": [
    "s2 = 'THIS IS MY STRINGS CLASS'"
   ]
  },
  {
   "cell_type": "code",
   "execution_count": 77,
   "id": "69a0e6dd-467b-4954-9b36-b44a379ef388",
   "metadata": {},
   "outputs": [
    {
     "data": {
      "text/plain": [
       "'this is my strings class'"
      ]
     },
     "execution_count": 77,
     "metadata": {},
     "output_type": "execute_result"
    }
   ],
   "source": [
    "s2.lower() "
   ]
  },
  {
   "cell_type": "code",
   "execution_count": 78,
   "id": "e1513b3d-fc2d-4a89-a33d-5970f45e1946",
   "metadata": {},
   "outputs": [
    {
     "data": {
      "text/plain": [
       "'This is my strings class'"
      ]
     },
     "execution_count": 78,
     "metadata": {},
     "output_type": "execute_result"
    }
   ],
   "source": [
    "s1 "
   ]
  },
  {
   "cell_type": "code",
   "execution_count": 80,
   "id": "be6bb20f-2433-4d2b-bce5-b9a638a4d357",
   "metadata": {},
   "outputs": [
    {
     "data": {
      "text/plain": [
       "'This Is My Strings Class'"
      ]
     },
     "execution_count": 80,
     "metadata": {},
     "output_type": "execute_result"
    }
   ],
   "source": [
    "s1.title() # it convert the first char of words \n",
    "# in string in captial letter"
   ]
  },
  {
   "cell_type": "code",
   "execution_count": 82,
   "id": "4c7b9356-6bf6-474f-9bb8-1b741848e265",
   "metadata": {},
   "outputs": [
    {
     "data": {
      "text/plain": [
       "'This is my strings class'"
      ]
     },
     "execution_count": 82,
     "metadata": {},
     "output_type": "execute_result"
    }
   ],
   "source": [
    "s1.capitalize() # convert the first char of a string \n",
    "# into captial letter"
   ]
  },
  {
   "cell_type": "code",
   "execution_count": 83,
   "id": "2f30b857-337c-4295-b6aa-a2425d710c91",
   "metadata": {},
   "outputs": [
    {
     "data": {
      "text/plain": [
       "'pwskills'"
      ]
     },
     "execution_count": 83,
     "metadata": {},
     "output_type": "execute_result"
    }
   ],
   "source": [
    "s"
   ]
  },
  {
   "cell_type": "code",
   "execution_count": 86,
   "id": "60ba1f71-f555-4d0e-824a-e56639849083",
   "metadata": {},
   "outputs": [
    {
     "ename": "TypeError",
     "evalue": "can only concatenate str (not \"int\") to str",
     "output_type": "error",
     "traceback": [
      "\u001b[0;31m---------------------------------------------------------------------------\u001b[0m",
      "\u001b[0;31mTypeError\u001b[0m                                 Traceback (most recent call last)",
      "Cell \u001b[0;32mIn[86], line 1\u001b[0m\n\u001b[0;32m----> 1\u001b[0m \u001b[43ms\u001b[49m\u001b[43m \u001b[49m\u001b[38;5;241;43m+\u001b[39;49m\u001b[43m \u001b[49m\u001b[38;5;241;43m1\u001b[39;49m \u001b[38;5;66;03m# we cannot concatinate int with string\u001b[39;00m\n",
      "\u001b[0;31mTypeError\u001b[0m: can only concatenate str (not \"int\") to str"
     ]
    }
   ],
   "source": [
    "s + 1 # we cannot concatinate int with string"
   ]
  },
  {
   "cell_type": "code",
   "execution_count": 88,
   "id": "20463cb8-bab2-45ad-abca-ae4f2394bd39",
   "metadata": {},
   "outputs": [
    {
     "data": {
      "text/plain": [
       "'pwskillsRudra'"
      ]
     },
     "execution_count": 88,
     "metadata": {},
     "output_type": "execute_result"
    }
   ],
   "source": [
    "s + 'Rudra' # we can only concatinate string with string"
   ]
  },
  {
   "cell_type": "code",
   "execution_count": 89,
   "id": "4b23f1c1-b267-42f2-89fb-1636971b16ad",
   "metadata": {},
   "outputs": [
    {
     "data": {
      "text/plain": [
       "'pwskills1'"
      ]
     },
     "execution_count": 89,
     "metadata": {},
     "output_type": "execute_result"
    }
   ],
   "source": [
    "# if we want to concatinate and integer with string \n",
    "# we have to perform concatination\n",
    "# i.e we have to convert integer to string\n",
    "# this can be done either by putting int in quotes\n",
    "# or by using str() function\n",
    "\n",
    "s + '1'"
   ]
  },
  {
   "cell_type": "code",
   "execution_count": 90,
   "id": "4e3b1bfd-4aea-4a1b-9958-3c514a72a1bb",
   "metadata": {},
   "outputs": [
    {
     "data": {
      "text/plain": [
       "'pwskills1'"
      ]
     },
     "execution_count": 90,
     "metadata": {},
     "output_type": "execute_result"
    }
   ],
   "source": [
    "# using str() finction\n",
    "\n",
    "s + str(1)"
   ]
  },
  {
   "cell_type": "code",
   "execution_count": 91,
   "id": "c96cdecd-46d1-4927-b47a-1851a8d41745",
   "metadata": {},
   "outputs": [
    {
     "data": {
      "text/plain": [
       "'rudrarudrarudra'"
      ]
     },
     "execution_count": 91,
     "metadata": {},
     "output_type": "execute_result"
    }
   ],
   "source": [
    "\"rudra\" * 3 # he we multiply string"
   ]
  },
  {
   "cell_type": "code",
   "execution_count": 93,
   "id": "9c408c17-568a-46a9-9eea-0209b68f1b95",
   "metadata": {},
   "outputs": [
    {
     "ename": "TypeError",
     "evalue": "unsupported operand type(s) for -: 'str' and 'str'",
     "output_type": "error",
     "traceback": [
      "\u001b[0;31m---------------------------------------------------------------------------\u001b[0m",
      "\u001b[0;31mTypeError\u001b[0m                                 Traceback (most recent call last)",
      "Cell \u001b[0;32mIn[93], line 3\u001b[0m\n\u001b[1;32m      1\u001b[0m \u001b[38;5;66;03m# But we cannot divide or substract string\u001b[39;00m\n\u001b[0;32m----> 3\u001b[0m \u001b[38;5;124;43m\"\u001b[39;49m\u001b[38;5;124;43mrudra\u001b[39;49m\u001b[38;5;124;43m\"\u001b[39;49m\u001b[43m \u001b[49m\u001b[38;5;241;43m-\u001b[39;49m\u001b[43m \u001b[49m\u001b[38;5;124;43m\"\u001b[39;49m\u001b[38;5;124;43m1\u001b[39;49m\u001b[38;5;124;43m\"\u001b[39;49m \n",
      "\u001b[0;31mTypeError\u001b[0m: unsupported operand type(s) for -: 'str' and 'str'"
     ]
    }
   ],
   "source": [
    "# But we cannot divide or substract string\n",
    "\n",
    "\"rudra\" - \"1\" "
   ]
  },
  {
   "cell_type": "code",
   "execution_count": 94,
   "id": "c8c71b99-6ea7-4dd0-a46a-5e50b67ae7e8",
   "metadata": {},
   "outputs": [
    {
     "ename": "TypeError",
     "evalue": "unsupported operand type(s) for /: 'str' and 'str'",
     "output_type": "error",
     "traceback": [
      "\u001b[0;31m---------------------------------------------------------------------------\u001b[0m",
      "\u001b[0;31mTypeError\u001b[0m                                 Traceback (most recent call last)",
      "Cell \u001b[0;32mIn[94], line 3\u001b[0m\n\u001b[1;32m      1\u001b[0m \u001b[38;5;66;03m# But we cannot divide or substract string\u001b[39;00m\n\u001b[0;32m----> 3\u001b[0m \u001b[38;5;124;43m\"\u001b[39;49m\u001b[38;5;124;43mrudra\u001b[39;49m\u001b[38;5;124;43m\"\u001b[39;49m\u001b[43m \u001b[49m\u001b[38;5;241;43m/\u001b[39;49m\u001b[43m \u001b[49m\u001b[38;5;124;43m\"\u001b[39;49m\u001b[38;5;124;43m1\u001b[39;49m\u001b[38;5;124;43m\"\u001b[39;49m \n",
      "\u001b[0;31mTypeError\u001b[0m: unsupported operand type(s) for /: 'str' and 'str'"
     ]
    }
   ],
   "source": [
    "# But we cannot divide or substract string\n",
    "\n",
    "\"rudra\" / \"1\" "
   ]
  },
  {
   "cell_type": "code",
   "execution_count": 95,
   "id": "c4432a87-1254-4ec3-a017-5365ee34209e",
   "metadata": {},
   "outputs": [
    {
     "ename": "SyntaxError",
     "evalue": "invalid syntax (3903587206.py, line 1)",
     "output_type": "error",
     "traceback": [
      "\u001b[0;36m  Cell \u001b[0;32mIn[95], line 1\u001b[0;36m\u001b[0m\n\u001b[0;31m    'don't do copy and past in class\u001b[0m\n\u001b[0m         ^\u001b[0m\n\u001b[0;31mSyntaxError\u001b[0m\u001b[0;31m:\u001b[0m invalid syntax\n"
     ]
    }
   ],
   "source": [
    "'don't do copy and past in class"
   ]
  },
  {
   "cell_type": "code",
   "execution_count": 96,
   "id": "5ba6355a-bfd5-47a5-b275-cfc1291676a3",
   "metadata": {},
   "outputs": [
    {
     "data": {
      "text/plain": [
       "\"don't do copy and paste in my class\""
      ]
     },
     "execution_count": 96,
     "metadata": {},
     "output_type": "execute_result"
    }
   ],
   "source": [
    "\"don't do copy and paste in my class\""
   ]
  },
  {
   "cell_type": "code",
   "execution_count": 100,
   "id": "45cfd7ca-0d12-4d6e-86f3-247f64bc4ec1",
   "metadata": {},
   "outputs": [
    {
     "data": {
      "text/plain": [
       "'i have learnt variable decleration, data type , string , int , boolean , complex number\\ni have seen some example of string slicing and indexing\\ni have gone through some of the string inbuilt function\\nappart from that i am trying to practice in my system \\nbut some of us in our class are not executing the code and still they are answering, which is bad'"
      ]
     },
     "execution_count": 100,
     "metadata": {},
     "output_type": "execute_result"
    }
   ],
   "source": [
    "# This is my first class for programming\n",
    "'''i have learnt variable decleration, data type , string , int , boolean , complex number\n",
    "i have seen some example of string slicing and indexing\n",
    "i have gone through some of the string inbuilt function\n",
    "appart from that i am trying to practice in my system \n",
    "but some of us in our class are not executing the code and still they are answering, which is bad'''"
   ]
  },
  {
   "cell_type": "code",
   "execution_count": 103,
   "id": "1ca4ea9b-dee9-444c-a758-e7ef32abe091",
   "metadata": {},
   "outputs": [],
   "source": [
    "# This is my first class for programming\n",
    "# i have learnt variable decleration, data type , string , int , boolean , complex number\n",
    "# i have seen some example of string slicing and indexing\n",
    "# i have gone through some of the string inbuilt function\n",
    "# appart from that i am trying to practice in my system \n",
    "# but some of us in our class are not executing the code and still they are answering, which is bad'''\n"
   ]
  },
  {
   "cell_type": "code",
   "execution_count": null,
   "id": "f209fe2f-06ed-4bfb-a2cf-4a53bc97feb7",
   "metadata": {},
   "outputs": [],
   "source": []
  }
 ],
 "metadata": {
  "kernelspec": {
   "display_name": "Python 3 (ipykernel)",
   "language": "python",
   "name": "python3"
  },
  "language_info": {
   "codemirror_mode": {
    "name": "ipython",
    "version": 3
   },
   "file_extension": ".py",
   "mimetype": "text/x-python",
   "name": "python",
   "nbconvert_exporter": "python",
   "pygments_lexer": "ipython3",
   "version": "3.10.8"
  }
 },
 "nbformat": 4,
 "nbformat_minor": 5
}
